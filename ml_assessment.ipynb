{
 "cells": [
  {
   "cell_type": "markdown",
   "id": "55ecbcc0",
   "metadata": {},
   "source": [
    "<b>Подгрузите датасет, отобразите структурную информацию, дайте комментарии по датасету</b>"
   ]
  },
  {
   "cell_type": "code",
   "execution_count": 321,
   "id": "286ec3f6",
   "metadata": {},
   "outputs": [],
   "source": [
    "import pandas as pd\n",
    "import matplotlib.pyplot as plt\n",
    "import seaborn as sns\n",
    "import numpy as np"
   ]
  },
  {
   "cell_type": "code",
   "execution_count": 322,
   "id": "aca697f0",
   "metadata": {},
   "outputs": [],
   "source": [
    "path_train = 'data/train.csv'\n",
    "path_test = 'data/test.csv'\n",
    "path_subm = 'data/submission.csv'"
   ]
  },
  {
   "cell_type": "code",
   "execution_count": 323,
   "id": "f5ee8bd2",
   "metadata": {},
   "outputs": [],
   "source": [
    "df_train = pd.read_csv(path_train, index_col=0)\n",
    "df_test = pd.read_csv(path_test, index_col=0)\n",
    "\n",
    "#Будем загружать ответы как тут\n",
    "df_subm = pd.read_csv(path_subm, index_col=0)"
   ]
  },
  {
   "cell_type": "markdown",
   "id": "c21a9e6d",
   "metadata": {},
   "source": [
    "<i> Посмотрим сколько у нас фичей, какого типа и все ли заполнены"
   ]
  },
  {
   "cell_type": "code",
   "execution_count": 324,
   "id": "faa5bdb8",
   "metadata": {},
   "outputs": [
    {
     "name": "stdout",
     "output_type": "stream",
     "text": [
      "<class 'pandas.core.frame.DataFrame'>\n",
      "Int64Index: 12870 entries, 13829 to 20137\n",
      "Data columns (total 16 columns):\n",
      " #   Column     Non-Null Count  Dtype  \n",
      "---  ------     --------------  -----  \n",
      " 0   age        12282 non-null  float64\n",
      " 1   job        12870 non-null  object \n",
      " 2   marital    12870 non-null  object \n",
      " 3   education  12870 non-null  object \n",
      " 4   default    12870 non-null  object \n",
      " 5   balance    12865 non-null  float64\n",
      " 6   housing    12870 non-null  object \n",
      " 7   loan       12870 non-null  object \n",
      " 8   contact    12870 non-null  object \n",
      " 9   day        12870 non-null  int64  \n",
      " 10  month      12865 non-null  object \n",
      " 11  campaign   12870 non-null  int64  \n",
      " 12  pdays      12870 non-null  int64  \n",
      " 13  previous   12870 non-null  int64  \n",
      " 14  poutcome   12870 non-null  object \n",
      " 15  y          12870 non-null  object \n",
      "dtypes: float64(2), int64(4), object(10)\n",
      "memory usage: 1.7+ MB\n"
     ]
    }
   ],
   "source": [
    "df_train.info()"
   ]
  },
  {
   "cell_type": "code",
   "execution_count": 325,
   "id": "029c9ed2",
   "metadata": {
    "scrolled": false
   },
   "outputs": [
    {
     "name": "stdout",
     "output_type": "stream",
     "text": [
      "<class 'pandas.core.frame.DataFrame'>\n",
      "Int64Index: 4291 entries, 53608 to 51945\n",
      "Data columns (total 15 columns):\n",
      " #   Column     Non-Null Count  Dtype \n",
      "---  ------     --------------  ----- \n",
      " 0   age        4291 non-null   int64 \n",
      " 1   job        4291 non-null   object\n",
      " 2   marital    4291 non-null   object\n",
      " 3   education  4291 non-null   object\n",
      " 4   default    4291 non-null   object\n",
      " 5   balance    4291 non-null   int64 \n",
      " 6   housing    4291 non-null   object\n",
      " 7   loan       4291 non-null   object\n",
      " 8   contact    4291 non-null   object\n",
      " 9   day        4291 non-null   int64 \n",
      " 10  month      4291 non-null   object\n",
      " 11  campaign   4291 non-null   int64 \n",
      " 12  pdays      4291 non-null   int64 \n",
      " 13  previous   4291 non-null   int64 \n",
      " 14  poutcome   4291 non-null   object\n",
      "dtypes: int64(6), object(9)\n",
      "memory usage: 536.4+ KB\n"
     ]
    }
   ],
   "source": [
    "df_test.info()"
   ]
  },
  {
   "cell_type": "markdown",
   "id": "8c3ce190",
   "metadata": {},
   "source": [
    "<i> Посмотрим нашу целевую переменную"
   ]
  },
  {
   "cell_type": "code",
   "execution_count": 326,
   "id": "a0093f2a",
   "metadata": {
    "scrolled": true
   },
   "outputs": [
    {
     "data": {
      "image/png": "[encoded data removed]",
      "text/plain": [
       "<Figure size 432x288 with 1 Axes>"
      ]
     },
     "metadata": {
      "needs_background": "light"
     },
     "output_type": "display_data"
    }
   ],
   "source": [
    "df_train['y'].hist();"
   ]
  },
  {
   "cell_type": "code",
   "execution_count": 327,
   "id": "8f5be3b4",
   "metadata": {},
   "outputs": [],
   "source": [
    "# Поменяем y на 0 и 1 (1 - оформил кредит, 0 - иначе)\n",
    "\n",
    "df_train['y'] = df_train['y'].replace(['no', 'yes'], [0, 1])"
   ]
  },
  {
   "cell_type": "markdown",
   "id": "fcbbf901",
   "metadata": {},
   "source": [
    "<i> Посмотрим на данные обучающей и тестовой выборок"
   ]
  },
  {
   "cell_type": "code",
   "execution_count": 328,
   "id": "428a14af",
   "metadata": {},
   "outputs": [
    {
     "data": {
      "text/html": [
       "<div>\n",
       "<style scoped>\n",
       "    .dataframe tbody tr th:only-of-type {\n",
       "        vertical-align: middle;\n",
       "    }\n",
       "\n",
       "    .dataframe tbody tr th {\n",
       "        vertical-align: top;\n",
       "    }\n",
       "\n",
       "    .dataframe thead th {\n",
       "        text-align: right;\n",
       "    }\n",
       "</style>\n",
       "<table border=\"1\" class=\"dataframe\">\n",
       "  <thead>\n",
       "    <tr style=\"text-align: right;\">\n",
       "      <th></th>\n",
       "      <th>age</th>\n",
       "      <th>balance</th>\n",
       "      <th>day</th>\n",
       "      <th>campaign</th>\n",
       "      <th>pdays</th>\n",
       "      <th>previous</th>\n",
       "      <th>y</th>\n",
       "    </tr>\n",
       "  </thead>\n",
       "  <tbody>\n",
       "    <tr>\n",
       "      <th>count</th>\n",
       "      <td>12282.0</td>\n",
       "      <td>12865.0</td>\n",
       "      <td>12870.0</td>\n",
       "      <td>12870.0</td>\n",
       "      <td>12870.0</td>\n",
       "      <td>12870.0</td>\n",
       "      <td>12870.0</td>\n",
       "    </tr>\n",
       "    <tr>\n",
       "      <th>mean</th>\n",
       "      <td>41.1</td>\n",
       "      <td>1482.9</td>\n",
       "      <td>15.6</td>\n",
       "      <td>2.7</td>\n",
       "      <td>45.6</td>\n",
       "      <td>0.7</td>\n",
       "      <td>0.3</td>\n",
       "    </tr>\n",
       "    <tr>\n",
       "      <th>std</th>\n",
       "      <td>11.3</td>\n",
       "      <td>3308.3</td>\n",
       "      <td>8.4</td>\n",
       "      <td>2.9</td>\n",
       "      <td>104.4</td>\n",
       "      <td>2.0</td>\n",
       "      <td>0.5</td>\n",
       "    </tr>\n",
       "    <tr>\n",
       "      <th>min</th>\n",
       "      <td>18.0</td>\n",
       "      <td>-6847.0</td>\n",
       "      <td>1.0</td>\n",
       "      <td>1.0</td>\n",
       "      <td>-1.0</td>\n",
       "      <td>0.0</td>\n",
       "      <td>0.0</td>\n",
       "    </tr>\n",
       "    <tr>\n",
       "      <th>25%</th>\n",
       "      <td>32.0</td>\n",
       "      <td>102.0</td>\n",
       "      <td>8.0</td>\n",
       "      <td>1.0</td>\n",
       "      <td>-1.0</td>\n",
       "      <td>0.0</td>\n",
       "      <td>0.0</td>\n",
       "    </tr>\n",
       "    <tr>\n",
       "      <th>50%</th>\n",
       "      <td>39.0</td>\n",
       "      <td>515.0</td>\n",
       "      <td>16.0</td>\n",
       "      <td>2.0</td>\n",
       "      <td>-1.0</td>\n",
       "      <td>0.0</td>\n",
       "      <td>0.0</td>\n",
       "    </tr>\n",
       "    <tr>\n",
       "      <th>75%</th>\n",
       "      <td>49.0</td>\n",
       "      <td>1592.0</td>\n",
       "      <td>21.0</td>\n",
       "      <td>3.0</td>\n",
       "      <td>-1.0</td>\n",
       "      <td>0.0</td>\n",
       "      <td>1.0</td>\n",
       "    </tr>\n",
       "    <tr>\n",
       "      <th>max</th>\n",
       "      <td>95.0</td>\n",
       "      <td>102127.0</td>\n",
       "      <td>31.0</td>\n",
       "      <td>43.0</td>\n",
       "      <td>854.0</td>\n",
       "      <td>58.0</td>\n",
       "      <td>1.0</td>\n",
       "    </tr>\n",
       "  </tbody>\n",
       "</table>\n",
       "</div>"
      ],
      "text/plain": [
       "           age   balance      day  campaign    pdays  previous        y\n",
       "count  12282.0   12865.0  12870.0   12870.0  12870.0   12870.0  12870.0\n",
       "mean      41.1    1482.9     15.6       2.7     45.6       0.7      0.3\n",
       "std       11.3    3308.3      8.4       2.9    104.4       2.0      0.5\n",
       "min       18.0   -6847.0      1.0       1.0     -1.0       0.0      0.0\n",
       "25%       32.0     102.0      8.0       1.0     -1.0       0.0      0.0\n",
       "50%       39.0     515.0     16.0       2.0     -1.0       0.0      0.0\n",
       "75%       49.0    1592.0     21.0       3.0     -1.0       0.0      1.0\n",
       "max       95.0  102127.0     31.0      43.0    854.0      58.0      1.0"
      ]
     },
     "execution_count": 328,
     "metadata": {},
     "output_type": "execute_result"
    }
   ],
   "source": [
    "df_train.describe().round(1)"
   ]
  },
  {
   "cell_type": "code",
   "execution_count": 329,
   "id": "0aa7ee2b",
   "metadata": {},
   "outputs": [
    {
     "data": {
      "text/html": [
       "<div>\n",
       "<style scoped>\n",
       "    .dataframe tbody tr th:only-of-type {\n",
       "        vertical-align: middle;\n",
       "    }\n",
       "\n",
       "    .dataframe tbody tr th {\n",
       "        vertical-align: top;\n",
       "    }\n",
       "\n",
       "    .dataframe thead th {\n",
       "        text-align: right;\n",
       "    }\n",
       "</style>\n",
       "<table border=\"1\" class=\"dataframe\">\n",
       "  <thead>\n",
       "    <tr style=\"text-align: right;\">\n",
       "      <th></th>\n",
       "      <th>age</th>\n",
       "      <th>balance</th>\n",
       "      <th>day</th>\n",
       "      <th>campaign</th>\n",
       "      <th>pdays</th>\n",
       "      <th>previous</th>\n",
       "    </tr>\n",
       "  </thead>\n",
       "  <tbody>\n",
       "    <tr>\n",
       "      <th>count</th>\n",
       "      <td>4291.0</td>\n",
       "      <td>4291.0</td>\n",
       "      <td>4291.0</td>\n",
       "      <td>4291.0</td>\n",
       "      <td>4291.0</td>\n",
       "      <td>4291.0</td>\n",
       "    </tr>\n",
       "    <tr>\n",
       "      <th>mean</th>\n",
       "      <td>40.9</td>\n",
       "      <td>1474.1</td>\n",
       "      <td>15.8</td>\n",
       "      <td>2.6</td>\n",
       "      <td>46.3</td>\n",
       "      <td>0.7</td>\n",
       "    </tr>\n",
       "    <tr>\n",
       "      <th>std</th>\n",
       "      <td>11.3</td>\n",
       "      <td>3118.9</td>\n",
       "      <td>8.3</td>\n",
       "      <td>2.8</td>\n",
       "      <td>104.0</td>\n",
       "      <td>2.0</td>\n",
       "    </tr>\n",
       "    <tr>\n",
       "      <th>min</th>\n",
       "      <td>18.0</td>\n",
       "      <td>-3313.0</td>\n",
       "      <td>1.0</td>\n",
       "      <td>1.0</td>\n",
       "      <td>-1.0</td>\n",
       "      <td>0.0</td>\n",
       "    </tr>\n",
       "    <tr>\n",
       "      <th>25%</th>\n",
       "      <td>32.0</td>\n",
       "      <td>88.0</td>\n",
       "      <td>8.0</td>\n",
       "      <td>1.0</td>\n",
       "      <td>-1.0</td>\n",
       "      <td>0.0</td>\n",
       "    </tr>\n",
       "    <tr>\n",
       "      <th>50%</th>\n",
       "      <td>39.0</td>\n",
       "      <td>515.0</td>\n",
       "      <td>16.0</td>\n",
       "      <td>2.0</td>\n",
       "      <td>-1.0</td>\n",
       "      <td>0.0</td>\n",
       "    </tr>\n",
       "    <tr>\n",
       "      <th>75%</th>\n",
       "      <td>49.0</td>\n",
       "      <td>1612.0</td>\n",
       "      <td>21.5</td>\n",
       "      <td>3.0</td>\n",
       "      <td>-1.0</td>\n",
       "      <td>0.0</td>\n",
       "    </tr>\n",
       "    <tr>\n",
       "      <th>max</th>\n",
       "      <td>94.0</td>\n",
       "      <td>58932.0</td>\n",
       "      <td>31.0</td>\n",
       "      <td>44.0</td>\n",
       "      <td>842.0</td>\n",
       "      <td>29.0</td>\n",
       "    </tr>\n",
       "  </tbody>\n",
       "</table>\n",
       "</div>"
      ],
      "text/plain": [
       "          age  balance     day  campaign   pdays  previous\n",
       "count  4291.0   4291.0  4291.0    4291.0  4291.0    4291.0\n",
       "mean     40.9   1474.1    15.8       2.6    46.3       0.7\n",
       "std      11.3   3118.9     8.3       2.8   104.0       2.0\n",
       "min      18.0  -3313.0     1.0       1.0    -1.0       0.0\n",
       "25%      32.0     88.0     8.0       1.0    -1.0       0.0\n",
       "50%      39.0    515.0    16.0       2.0    -1.0       0.0\n",
       "75%      49.0   1612.0    21.5       3.0    -1.0       0.0\n",
       "max      94.0  58932.0    31.0      44.0   842.0      29.0"
      ]
     },
     "execution_count": 329,
     "metadata": {},
     "output_type": "execute_result"
    }
   ],
   "source": [
    "df_test.describe().round(1)"
   ]
  },
  {
   "cell_type": "code",
   "execution_count": 330,
   "id": "5dd92602",
   "metadata": {
    "scrolled": true
   },
   "outputs": [
    {
     "data": {
      "text/html": [
       "<div>\n",
       "<style scoped>\n",
       "    .dataframe tbody tr th:only-of-type {\n",
       "        vertical-align: middle;\n",
       "    }\n",
       "\n",
       "    .dataframe tbody tr th {\n",
       "        vertical-align: top;\n",
       "    }\n",
       "\n",
       "    .dataframe thead th {\n",
       "        text-align: right;\n",
       "    }\n",
       "</style>\n",
       "<table border=\"1\" class=\"dataframe\">\n",
       "  <thead>\n",
       "    <tr style=\"text-align: right;\">\n",
       "      <th></th>\n",
       "      <th>age</th>\n",
       "      <th>job</th>\n",
       "      <th>marital</th>\n",
       "      <th>education</th>\n",
       "      <th>default</th>\n",
       "      <th>balance</th>\n",
       "      <th>housing</th>\n",
       "      <th>loan</th>\n",
       "      <th>contact</th>\n",
       "      <th>day</th>\n",
       "      <th>month</th>\n",
       "      <th>campaign</th>\n",
       "      <th>pdays</th>\n",
       "      <th>previous</th>\n",
       "      <th>poutcome</th>\n",
       "      <th>y</th>\n",
       "    </tr>\n",
       "    <tr>\n",
       "      <th>ID</th>\n",
       "      <th></th>\n",
       "      <th></th>\n",
       "      <th></th>\n",
       "      <th></th>\n",
       "      <th></th>\n",
       "      <th></th>\n",
       "      <th></th>\n",
       "      <th></th>\n",
       "      <th></th>\n",
       "      <th></th>\n",
       "      <th></th>\n",
       "      <th></th>\n",
       "      <th></th>\n",
       "      <th></th>\n",
       "      <th></th>\n",
       "      <th></th>\n",
       "    </tr>\n",
       "  </thead>\n",
       "  <tbody>\n",
       "    <tr>\n",
       "      <th>13829</th>\n",
       "      <td>NaN</td>\n",
       "      <td>technician</td>\n",
       "      <td>single</td>\n",
       "      <td>tertiary</td>\n",
       "      <td>no</td>\n",
       "      <td>NaN</td>\n",
       "      <td>no</td>\n",
       "      <td>no</td>\n",
       "      <td>cellular</td>\n",
       "      <td>11</td>\n",
       "      <td>NaN</td>\n",
       "      <td>2</td>\n",
       "      <td>-1</td>\n",
       "      <td>0</td>\n",
       "      <td>unknown</td>\n",
       "      <td>0</td>\n",
       "    </tr>\n",
       "    <tr>\n",
       "      <th>22677</th>\n",
       "      <td>NaN</td>\n",
       "      <td>services</td>\n",
       "      <td>single</td>\n",
       "      <td>secondary</td>\n",
       "      <td>no</td>\n",
       "      <td>NaN</td>\n",
       "      <td>yes</td>\n",
       "      <td>yes</td>\n",
       "      <td>unknown</td>\n",
       "      <td>5</td>\n",
       "      <td>NaN</td>\n",
       "      <td>3</td>\n",
       "      <td>-1</td>\n",
       "      <td>0</td>\n",
       "      <td>unknown</td>\n",
       "      <td>0</td>\n",
       "    </tr>\n",
       "    <tr>\n",
       "      <th>10541</th>\n",
       "      <td>NaN</td>\n",
       "      <td>management</td>\n",
       "      <td>single</td>\n",
       "      <td>secondary</td>\n",
       "      <td>no</td>\n",
       "      <td>NaN</td>\n",
       "      <td>no</td>\n",
       "      <td>no</td>\n",
       "      <td>cellular</td>\n",
       "      <td>14</td>\n",
       "      <td>NaN</td>\n",
       "      <td>2</td>\n",
       "      <td>-1</td>\n",
       "      <td>0</td>\n",
       "      <td>unknown</td>\n",
       "      <td>0</td>\n",
       "    </tr>\n",
       "    <tr>\n",
       "      <th>13689</th>\n",
       "      <td>NaN</td>\n",
       "      <td>technician</td>\n",
       "      <td>married</td>\n",
       "      <td>unknown</td>\n",
       "      <td>no</td>\n",
       "      <td>NaN</td>\n",
       "      <td>yes</td>\n",
       "      <td>no</td>\n",
       "      <td>cellular</td>\n",
       "      <td>10</td>\n",
       "      <td>NaN</td>\n",
       "      <td>1</td>\n",
       "      <td>-1</td>\n",
       "      <td>0</td>\n",
       "      <td>unknown</td>\n",
       "      <td>0</td>\n",
       "    </tr>\n",
       "    <tr>\n",
       "      <th>11304</th>\n",
       "      <td>NaN</td>\n",
       "      <td>admin.</td>\n",
       "      <td>single</td>\n",
       "      <td>secondary</td>\n",
       "      <td>no</td>\n",
       "      <td>NaN</td>\n",
       "      <td>no</td>\n",
       "      <td>yes</td>\n",
       "      <td>unknown</td>\n",
       "      <td>2</td>\n",
       "      <td>NaN</td>\n",
       "      <td>1</td>\n",
       "      <td>-1</td>\n",
       "      <td>0</td>\n",
       "      <td>unknown</td>\n",
       "      <td>0</td>\n",
       "    </tr>\n",
       "  </tbody>\n",
       "</table>\n",
       "</div>"
      ],
      "text/plain": [
       "       age         job  marital  education default  balance housing loan  \\\n",
       "ID                                                                         \n",
       "13829  NaN  technician   single   tertiary      no      NaN      no   no   \n",
       "22677  NaN    services   single  secondary      no      NaN     yes  yes   \n",
       "10541  NaN  management   single  secondary      no      NaN      no   no   \n",
       "13689  NaN  technician  married    unknown      no      NaN     yes   no   \n",
       "11304  NaN      admin.   single  secondary      no      NaN      no  yes   \n",
       "\n",
       "        contact  day month  campaign  pdays  previous poutcome  y  \n",
       "ID                                                                 \n",
       "13829  cellular   11   NaN         2     -1         0  unknown  0  \n",
       "22677   unknown    5   NaN         3     -1         0  unknown  0  \n",
       "10541  cellular   14   NaN         2     -1         0  unknown  0  \n",
       "13689  cellular   10   NaN         1     -1         0  unknown  0  \n",
       "11304   unknown    2   NaN         1     -1         0  unknown  0  "
      ]
     },
     "execution_count": 330,
     "metadata": {},
     "output_type": "execute_result"
    }
   ],
   "source": [
    "#Рассмотрим Nan там, где их мало это month и balance\n",
    "\n",
    "df_train[df_train[['month', 'balance']].isna().any(1)]"
   ]
  },
  {
   "cell_type": "markdown",
   "id": "83511276",
   "metadata": {},
   "source": [
    "<i> Посмотрим на ID клиентов"
   ]
  },
  {
   "cell_type": "code",
   "execution_count": 331,
   "id": "1dffdc57",
   "metadata": {},
   "outputs": [
    {
     "data": {
      "text/html": [
       "<div>\n",
       "<style scoped>\n",
       "    .dataframe tbody tr th:only-of-type {\n",
       "        vertical-align: middle;\n",
       "    }\n",
       "\n",
       "    .dataframe tbody tr th {\n",
       "        vertical-align: top;\n",
       "    }\n",
       "\n",
       "    .dataframe thead th {\n",
       "        text-align: right;\n",
       "    }\n",
       "</style>\n",
       "<table border=\"1\" class=\"dataframe\">\n",
       "  <thead>\n",
       "    <tr style=\"text-align: right;\">\n",
       "      <th></th>\n",
       "      <th>age</th>\n",
       "      <th>job</th>\n",
       "      <th>marital</th>\n",
       "      <th>education</th>\n",
       "      <th>default</th>\n",
       "      <th>balance</th>\n",
       "      <th>housing</th>\n",
       "      <th>loan</th>\n",
       "      <th>contact</th>\n",
       "      <th>day</th>\n",
       "      <th>month</th>\n",
       "      <th>campaign</th>\n",
       "      <th>pdays</th>\n",
       "      <th>previous</th>\n",
       "      <th>poutcome</th>\n",
       "      <th>y</th>\n",
       "    </tr>\n",
       "    <tr>\n",
       "      <th>ID</th>\n",
       "      <th></th>\n",
       "      <th></th>\n",
       "      <th></th>\n",
       "      <th></th>\n",
       "      <th></th>\n",
       "      <th></th>\n",
       "      <th></th>\n",
       "      <th></th>\n",
       "      <th></th>\n",
       "      <th></th>\n",
       "      <th></th>\n",
       "      <th></th>\n",
       "      <th></th>\n",
       "      <th></th>\n",
       "      <th></th>\n",
       "      <th></th>\n",
       "    </tr>\n",
       "  </thead>\n",
       "  <tbody>\n",
       "    <tr>\n",
       "      <th>10000</th>\n",
       "      <td>39.0</td>\n",
       "      <td>management</td>\n",
       "      <td>divorced</td>\n",
       "      <td>tertiary</td>\n",
       "      <td>no</td>\n",
       "      <td>224.0</td>\n",
       "      <td>no</td>\n",
       "      <td>no</td>\n",
       "      <td>cellular</td>\n",
       "      <td>5</td>\n",
       "      <td>apr</td>\n",
       "      <td>1</td>\n",
       "      <td>-1</td>\n",
       "      <td>0</td>\n",
       "      <td>unknown</td>\n",
       "      <td>1</td>\n",
       "    </tr>\n",
       "    <tr>\n",
       "      <th>10001</th>\n",
       "      <td>32.0</td>\n",
       "      <td>technician</td>\n",
       "      <td>single</td>\n",
       "      <td>tertiary</td>\n",
       "      <td>no</td>\n",
       "      <td>1732.0</td>\n",
       "      <td>no</td>\n",
       "      <td>no</td>\n",
       "      <td>cellular</td>\n",
       "      <td>12</td>\n",
       "      <td>aug</td>\n",
       "      <td>4</td>\n",
       "      <td>-1</td>\n",
       "      <td>0</td>\n",
       "      <td>unknown</td>\n",
       "      <td>0</td>\n",
       "    </tr>\n",
       "    <tr>\n",
       "      <th>10002</th>\n",
       "      <td>38.0</td>\n",
       "      <td>management</td>\n",
       "      <td>married</td>\n",
       "      <td>tertiary</td>\n",
       "      <td>no</td>\n",
       "      <td>165.0</td>\n",
       "      <td>yes</td>\n",
       "      <td>no</td>\n",
       "      <td>cellular</td>\n",
       "      <td>17</td>\n",
       "      <td>apr</td>\n",
       "      <td>1</td>\n",
       "      <td>260</td>\n",
       "      <td>2</td>\n",
       "      <td>other</td>\n",
       "      <td>1</td>\n",
       "    </tr>\n",
       "    <tr>\n",
       "      <th>10003</th>\n",
       "      <td>45.0</td>\n",
       "      <td>blue-collar</td>\n",
       "      <td>married</td>\n",
       "      <td>secondary</td>\n",
       "      <td>no</td>\n",
       "      <td>431.0</td>\n",
       "      <td>yes</td>\n",
       "      <td>no</td>\n",
       "      <td>unknown</td>\n",
       "      <td>12</td>\n",
       "      <td>may</td>\n",
       "      <td>1</td>\n",
       "      <td>-1</td>\n",
       "      <td>0</td>\n",
       "      <td>unknown</td>\n",
       "      <td>0</td>\n",
       "    </tr>\n",
       "    <tr>\n",
       "      <th>10004</th>\n",
       "      <td>40.0</td>\n",
       "      <td>blue-collar</td>\n",
       "      <td>divorced</td>\n",
       "      <td>primary</td>\n",
       "      <td>no</td>\n",
       "      <td>54.0</td>\n",
       "      <td>yes</td>\n",
       "      <td>no</td>\n",
       "      <td>cellular</td>\n",
       "      <td>13</td>\n",
       "      <td>may</td>\n",
       "      <td>5</td>\n",
       "      <td>362</td>\n",
       "      <td>3</td>\n",
       "      <td>other</td>\n",
       "      <td>0</td>\n",
       "    </tr>\n",
       "    <tr>\n",
       "      <th>...</th>\n",
       "      <td>...</td>\n",
       "      <td>...</td>\n",
       "      <td>...</td>\n",
       "      <td>...</td>\n",
       "      <td>...</td>\n",
       "      <td>...</td>\n",
       "      <td>...</td>\n",
       "      <td>...</td>\n",
       "      <td>...</td>\n",
       "      <td>...</td>\n",
       "      <td>...</td>\n",
       "      <td>...</td>\n",
       "      <td>...</td>\n",
       "      <td>...</td>\n",
       "      <td>...</td>\n",
       "      <td>...</td>\n",
       "    </tr>\n",
       "    <tr>\n",
       "      <th>22865</th>\n",
       "      <td>32.0</td>\n",
       "      <td>technician</td>\n",
       "      <td>single</td>\n",
       "      <td>tertiary</td>\n",
       "      <td>no</td>\n",
       "      <td>654.0</td>\n",
       "      <td>yes</td>\n",
       "      <td>no</td>\n",
       "      <td>cellular</td>\n",
       "      <td>25</td>\n",
       "      <td>may</td>\n",
       "      <td>4</td>\n",
       "      <td>-1</td>\n",
       "      <td>0</td>\n",
       "      <td>unknown</td>\n",
       "      <td>1</td>\n",
       "    </tr>\n",
       "    <tr>\n",
       "      <th>22866</th>\n",
       "      <td>39.0</td>\n",
       "      <td>blue-collar</td>\n",
       "      <td>married</td>\n",
       "      <td>primary</td>\n",
       "      <td>no</td>\n",
       "      <td>2288.0</td>\n",
       "      <td>yes</td>\n",
       "      <td>no</td>\n",
       "      <td>cellular</td>\n",
       "      <td>15</td>\n",
       "      <td>may</td>\n",
       "      <td>1</td>\n",
       "      <td>-1</td>\n",
       "      <td>0</td>\n",
       "      <td>unknown</td>\n",
       "      <td>0</td>\n",
       "    </tr>\n",
       "    <tr>\n",
       "      <th>22867</th>\n",
       "      <td>63.0</td>\n",
       "      <td>unknown</td>\n",
       "      <td>married</td>\n",
       "      <td>secondary</td>\n",
       "      <td>no</td>\n",
       "      <td>367.0</td>\n",
       "      <td>no</td>\n",
       "      <td>no</td>\n",
       "      <td>telephone</td>\n",
       "      <td>4</td>\n",
       "      <td>mar</td>\n",
       "      <td>1</td>\n",
       "      <td>178</td>\n",
       "      <td>6</td>\n",
       "      <td>failure</td>\n",
       "      <td>0</td>\n",
       "    </tr>\n",
       "    <tr>\n",
       "      <th>22868</th>\n",
       "      <td>22.0</td>\n",
       "      <td>student</td>\n",
       "      <td>single</td>\n",
       "      <td>unknown</td>\n",
       "      <td>no</td>\n",
       "      <td>1232.0</td>\n",
       "      <td>no</td>\n",
       "      <td>no</td>\n",
       "      <td>cellular</td>\n",
       "      <td>30</td>\n",
       "      <td>jul</td>\n",
       "      <td>1</td>\n",
       "      <td>430</td>\n",
       "      <td>2</td>\n",
       "      <td>other</td>\n",
       "      <td>1</td>\n",
       "    </tr>\n",
       "    <tr>\n",
       "      <th>22869</th>\n",
       "      <td>46.0</td>\n",
       "      <td>admin.</td>\n",
       "      <td>married</td>\n",
       "      <td>unknown</td>\n",
       "      <td>no</td>\n",
       "      <td>1106.0</td>\n",
       "      <td>no</td>\n",
       "      <td>no</td>\n",
       "      <td>telephone</td>\n",
       "      <td>9</td>\n",
       "      <td>feb</td>\n",
       "      <td>13</td>\n",
       "      <td>-1</td>\n",
       "      <td>0</td>\n",
       "      <td>unknown</td>\n",
       "      <td>0</td>\n",
       "    </tr>\n",
       "  </tbody>\n",
       "</table>\n",
       "<p>12870 rows × 16 columns</p>\n",
       "</div>"
      ],
      "text/plain": [
       "        age          job   marital  education default  balance housing loan  \\\n",
       "ID                                                                            \n",
       "10000  39.0   management  divorced   tertiary      no    224.0      no   no   \n",
       "10001  32.0   technician    single   tertiary      no   1732.0      no   no   \n",
       "10002  38.0   management   married   tertiary      no    165.0     yes   no   \n",
       "10003  45.0  blue-collar   married  secondary      no    431.0     yes   no   \n",
       "10004  40.0  blue-collar  divorced    primary      no     54.0     yes   no   \n",
       "...     ...          ...       ...        ...     ...      ...     ...  ...   \n",
       "22865  32.0   technician    single   tertiary      no    654.0     yes   no   \n",
       "22866  39.0  blue-collar   married    primary      no   2288.0     yes   no   \n",
       "22867  63.0      unknown   married  secondary      no    367.0      no   no   \n",
       "22868  22.0      student    single    unknown      no   1232.0      no   no   \n",
       "22869  46.0       admin.   married    unknown      no   1106.0      no   no   \n",
       "\n",
       "         contact  day month  campaign  pdays  previous poutcome  y  \n",
       "ID                                                                  \n",
       "10000   cellular    5   apr         1     -1         0  unknown  1  \n",
       "10001   cellular   12   aug         4     -1         0  unknown  0  \n",
       "10002   cellular   17   apr         1    260         2    other  1  \n",
       "10003    unknown   12   may         1     -1         0  unknown  0  \n",
       "10004   cellular   13   may         5    362         3    other  0  \n",
       "...          ...  ...   ...       ...    ...       ...      ... ..  \n",
       "22865   cellular   25   may         4     -1         0  unknown  1  \n",
       "22866   cellular   15   may         1     -1         0  unknown  0  \n",
       "22867  telephone    4   mar         1    178         6  failure  0  \n",
       "22868   cellular   30   jul         1    430         2    other  1  \n",
       "22869  telephone    9   feb        13     -1         0  unknown  0  \n",
       "\n",
       "[12870 rows x 16 columns]"
      ]
     },
     "execution_count": 331,
     "metadata": {},
     "output_type": "execute_result"
    }
   ],
   "source": [
    "df_train.sort_index()"
   ]
  },
  {
   "cell_type": "code",
   "execution_count": 332,
   "id": "75215baf",
   "metadata": {},
   "outputs": [
    {
     "data": {
      "text/html": [
       "<div>\n",
       "<style scoped>\n",
       "    .dataframe tbody tr th:only-of-type {\n",
       "        vertical-align: middle;\n",
       "    }\n",
       "\n",
       "    .dataframe tbody tr th {\n",
       "        vertical-align: top;\n",
       "    }\n",
       "\n",
       "    .dataframe thead th {\n",
       "        text-align: right;\n",
       "    }\n",
       "</style>\n",
       "<table border=\"1\" class=\"dataframe\">\n",
       "  <thead>\n",
       "    <tr style=\"text-align: right;\">\n",
       "      <th></th>\n",
       "      <th>age</th>\n",
       "      <th>job</th>\n",
       "      <th>marital</th>\n",
       "      <th>education</th>\n",
       "      <th>default</th>\n",
       "      <th>balance</th>\n",
       "      <th>housing</th>\n",
       "      <th>loan</th>\n",
       "      <th>contact</th>\n",
       "      <th>day</th>\n",
       "      <th>month</th>\n",
       "      <th>campaign</th>\n",
       "      <th>pdays</th>\n",
       "      <th>previous</th>\n",
       "      <th>poutcome</th>\n",
       "    </tr>\n",
       "    <tr>\n",
       "      <th>ID</th>\n",
       "      <th></th>\n",
       "      <th></th>\n",
       "      <th></th>\n",
       "      <th></th>\n",
       "      <th></th>\n",
       "      <th></th>\n",
       "      <th></th>\n",
       "      <th></th>\n",
       "      <th></th>\n",
       "      <th></th>\n",
       "      <th></th>\n",
       "      <th></th>\n",
       "      <th></th>\n",
       "      <th></th>\n",
       "      <th></th>\n",
       "    </tr>\n",
       "  </thead>\n",
       "  <tbody>\n",
       "    <tr>\n",
       "      <th>50000</th>\n",
       "      <td>25</td>\n",
       "      <td>unemployed</td>\n",
       "      <td>single</td>\n",
       "      <td>tertiary</td>\n",
       "      <td>no</td>\n",
       "      <td>343</td>\n",
       "      <td>no</td>\n",
       "      <td>no</td>\n",
       "      <td>cellular</td>\n",
       "      <td>1</td>\n",
       "      <td>jun</td>\n",
       "      <td>1</td>\n",
       "      <td>-1</td>\n",
       "      <td>0</td>\n",
       "      <td>unknown</td>\n",
       "    </tr>\n",
       "    <tr>\n",
       "      <th>50001</th>\n",
       "      <td>25</td>\n",
       "      <td>technician</td>\n",
       "      <td>single</td>\n",
       "      <td>secondary</td>\n",
       "      <td>no</td>\n",
       "      <td>1298</td>\n",
       "      <td>no</td>\n",
       "      <td>no</td>\n",
       "      <td>cellular</td>\n",
       "      <td>2</td>\n",
       "      <td>sep</td>\n",
       "      <td>7</td>\n",
       "      <td>94</td>\n",
       "      <td>2</td>\n",
       "      <td>other</td>\n",
       "    </tr>\n",
       "    <tr>\n",
       "      <th>50002</th>\n",
       "      <td>29</td>\n",
       "      <td>blue-collar</td>\n",
       "      <td>married</td>\n",
       "      <td>secondary</td>\n",
       "      <td>no</td>\n",
       "      <td>-49</td>\n",
       "      <td>yes</td>\n",
       "      <td>yes</td>\n",
       "      <td>cellular</td>\n",
       "      <td>21</td>\n",
       "      <td>jul</td>\n",
       "      <td>1</td>\n",
       "      <td>-1</td>\n",
       "      <td>0</td>\n",
       "      <td>unknown</td>\n",
       "    </tr>\n",
       "    <tr>\n",
       "      <th>50003</th>\n",
       "      <td>49</td>\n",
       "      <td>blue-collar</td>\n",
       "      <td>married</td>\n",
       "      <td>primary</td>\n",
       "      <td>no</td>\n",
       "      <td>216</td>\n",
       "      <td>yes</td>\n",
       "      <td>no</td>\n",
       "      <td>unknown</td>\n",
       "      <td>9</td>\n",
       "      <td>may</td>\n",
       "      <td>2</td>\n",
       "      <td>-1</td>\n",
       "      <td>0</td>\n",
       "      <td>unknown</td>\n",
       "    </tr>\n",
       "    <tr>\n",
       "      <th>50004</th>\n",
       "      <td>18</td>\n",
       "      <td>student</td>\n",
       "      <td>single</td>\n",
       "      <td>unknown</td>\n",
       "      <td>no</td>\n",
       "      <td>3</td>\n",
       "      <td>no</td>\n",
       "      <td>no</td>\n",
       "      <td>cellular</td>\n",
       "      <td>25</td>\n",
       "      <td>aug</td>\n",
       "      <td>2</td>\n",
       "      <td>-1</td>\n",
       "      <td>0</td>\n",
       "      <td>unknown</td>\n",
       "    </tr>\n",
       "    <tr>\n",
       "      <th>...</th>\n",
       "      <td>...</td>\n",
       "      <td>...</td>\n",
       "      <td>...</td>\n",
       "      <td>...</td>\n",
       "      <td>...</td>\n",
       "      <td>...</td>\n",
       "      <td>...</td>\n",
       "      <td>...</td>\n",
       "      <td>...</td>\n",
       "      <td>...</td>\n",
       "      <td>...</td>\n",
       "      <td>...</td>\n",
       "      <td>...</td>\n",
       "      <td>...</td>\n",
       "      <td>...</td>\n",
       "    </tr>\n",
       "    <tr>\n",
       "      <th>54286</th>\n",
       "      <td>57</td>\n",
       "      <td>retired</td>\n",
       "      <td>married</td>\n",
       "      <td>secondary</td>\n",
       "      <td>no</td>\n",
       "      <td>5313</td>\n",
       "      <td>no</td>\n",
       "      <td>no</td>\n",
       "      <td>cellular</td>\n",
       "      <td>16</td>\n",
       "      <td>dec</td>\n",
       "      <td>2</td>\n",
       "      <td>196</td>\n",
       "      <td>1</td>\n",
       "      <td>success</td>\n",
       "    </tr>\n",
       "    <tr>\n",
       "      <th>54287</th>\n",
       "      <td>28</td>\n",
       "      <td>blue-collar</td>\n",
       "      <td>single</td>\n",
       "      <td>primary</td>\n",
       "      <td>no</td>\n",
       "      <td>1199</td>\n",
       "      <td>yes</td>\n",
       "      <td>no</td>\n",
       "      <td>cellular</td>\n",
       "      <td>30</td>\n",
       "      <td>jul</td>\n",
       "      <td>20</td>\n",
       "      <td>-1</td>\n",
       "      <td>0</td>\n",
       "      <td>unknown</td>\n",
       "    </tr>\n",
       "    <tr>\n",
       "      <th>54288</th>\n",
       "      <td>47</td>\n",
       "      <td>self-employed</td>\n",
       "      <td>married</td>\n",
       "      <td>tertiary</td>\n",
       "      <td>no</td>\n",
       "      <td>3</td>\n",
       "      <td>yes</td>\n",
       "      <td>no</td>\n",
       "      <td>cellular</td>\n",
       "      <td>14</td>\n",
       "      <td>may</td>\n",
       "      <td>15</td>\n",
       "      <td>-1</td>\n",
       "      <td>0</td>\n",
       "      <td>unknown</td>\n",
       "    </tr>\n",
       "    <tr>\n",
       "      <th>54289</th>\n",
       "      <td>32</td>\n",
       "      <td>technician</td>\n",
       "      <td>married</td>\n",
       "      <td>secondary</td>\n",
       "      <td>no</td>\n",
       "      <td>473</td>\n",
       "      <td>no</td>\n",
       "      <td>yes</td>\n",
       "      <td>cellular</td>\n",
       "      <td>7</td>\n",
       "      <td>may</td>\n",
       "      <td>3</td>\n",
       "      <td>-1</td>\n",
       "      <td>0</td>\n",
       "      <td>unknown</td>\n",
       "    </tr>\n",
       "    <tr>\n",
       "      <th>54290</th>\n",
       "      <td>45</td>\n",
       "      <td>admin.</td>\n",
       "      <td>married</td>\n",
       "      <td>secondary</td>\n",
       "      <td>no</td>\n",
       "      <td>142</td>\n",
       "      <td>yes</td>\n",
       "      <td>yes</td>\n",
       "      <td>unknown</td>\n",
       "      <td>29</td>\n",
       "      <td>may</td>\n",
       "      <td>3</td>\n",
       "      <td>-1</td>\n",
       "      <td>0</td>\n",
       "      <td>unknown</td>\n",
       "    </tr>\n",
       "  </tbody>\n",
       "</table>\n",
       "<p>4291 rows × 15 columns</p>\n",
       "</div>"
      ],
      "text/plain": [
       "       age            job  marital  education default  balance housing loan  \\\n",
       "ID                                                                            \n",
       "50000   25     unemployed   single   tertiary      no      343      no   no   \n",
       "50001   25     technician   single  secondary      no     1298      no   no   \n",
       "50002   29    blue-collar  married  secondary      no      -49     yes  yes   \n",
       "50003   49    blue-collar  married    primary      no      216     yes   no   \n",
       "50004   18        student   single    unknown      no        3      no   no   \n",
       "...    ...            ...      ...        ...     ...      ...     ...  ...   \n",
       "54286   57        retired  married  secondary      no     5313      no   no   \n",
       "54287   28    blue-collar   single    primary      no     1199     yes   no   \n",
       "54288   47  self-employed  married   tertiary      no        3     yes   no   \n",
       "54289   32     technician  married  secondary      no      473      no  yes   \n",
       "54290   45         admin.  married  secondary      no      142     yes  yes   \n",
       "\n",
       "        contact  day month  campaign  pdays  previous poutcome  \n",
       "ID                                                              \n",
       "50000  cellular    1   jun         1     -1         0  unknown  \n",
       "50001  cellular    2   sep         7     94         2    other  \n",
       "50002  cellular   21   jul         1     -1         0  unknown  \n",
       "50003   unknown    9   may         2     -1         0  unknown  \n",
       "50004  cellular   25   aug         2     -1         0  unknown  \n",
       "...         ...  ...   ...       ...    ...       ...      ...  \n",
       "54286  cellular   16   dec         2    196         1  success  \n",
       "54287  cellular   30   jul        20     -1         0  unknown  \n",
       "54288  cellular   14   may        15     -1         0  unknown  \n",
       "54289  cellular    7   may         3     -1         0  unknown  \n",
       "54290   unknown   29   may         3     -1         0  unknown  \n",
       "\n",
       "[4291 rows x 15 columns]"
      ]
     },
     "execution_count": 332,
     "metadata": {},
     "output_type": "execute_result"
    }
   ],
   "source": [
    "df_test.sort_index()"
   ]
  },
  {
   "cell_type": "markdown",
   "id": "e83ebcab",
   "metadata": {},
   "source": [
    "* Данные разбиты в соотношении 3:1 на обучающую и тестовую выборки\n",
    "* Видим, что вроде они похоже разбиты по средним значениям числовых фичей (возможно стоит проверить)\n",
    "* Количество оформленных быстрых кредитов в соотношении 2:1 неположивших к положившим депозит\n",
    "* Есть значителньые пропуски в возрасте и несколько в балансе и в месяце"
   ]
  },
  {
   "cell_type": "markdown",
   "id": "54b6c638",
   "metadata": {},
   "source": [
    "## Визуализация\n",
    "\n",
    "* <b>Какие виды/подвиды типов данных используются в машинном обучении?</b>  \n",
    "     "
   ]
  },
  {
   "cell_type": "markdown",
   "id": "4bd270d2",
   "metadata": {},
   "source": [
    "    * Числовые (дискретные, непрерывные) \n",
    "    * Категориальные (порядковые, номинальные)  "
   ]
  },
  {
   "cell_type": "markdown",
   "id": "127058fb",
   "metadata": {},
   "source": [
    "\n",
    "* <b>С помощью чего можно отобразить распределение каждого из признаков?</b>"
   ]
  },
  {
   "cell_type": "markdown",
   "id": "f8ea46a4",
   "metadata": {},
   "source": [
    "гистограммы"
   ]
  },
  {
   "cell_type": "markdown",
   "id": "e1367114",
   "metadata": {},
   "source": [
    "* <b>Создайте переменные <i>numeric_features, categorical_features</i>, в которые запишите название столбцов числовых и категориальных признаков</b>\n",
    "* <b>Отобразите распределения всех признаков</b> (можно в одной фигуре все числовые, в другой все категориальные)\n",
    "* <b>Отобразите основные зависимости</b> (начать с матрицы корреляций и вывести зависимости таргета с самыми значимыми)"
   ]
  },
  {
   "cell_type": "code",
   "execution_count": 333,
   "id": "c4ada21a",
   "metadata": {},
   "outputs": [],
   "source": [
    "# Объединим train и test в один датафрейм\n",
    "y_train  = df_train['y'].to_list()\n",
    "\n",
    "df = pd.concat([df_train.drop(columns='y'), df_test], axis = 0)"
   ]
  },
  {
   "cell_type": "code",
   "execution_count": 334,
   "id": "92e4ee77",
   "metadata": {},
   "outputs": [
    {
     "data": {
      "text/html": [
       "<div>\n",
       "<style scoped>\n",
       "    .dataframe tbody tr th:only-of-type {\n",
       "        vertical-align: middle;\n",
       "    }\n",
       "\n",
       "    .dataframe tbody tr th {\n",
       "        vertical-align: top;\n",
       "    }\n",
       "\n",
       "    .dataframe thead th {\n",
       "        text-align: right;\n",
       "    }\n",
       "</style>\n",
       "<table border=\"1\" class=\"dataframe\">\n",
       "  <thead>\n",
       "    <tr style=\"text-align: right;\">\n",
       "      <th></th>\n",
       "      <th>age</th>\n",
       "      <th>balance</th>\n",
       "      <th>day</th>\n",
       "      <th>campaign</th>\n",
       "      <th>pdays</th>\n",
       "      <th>previous</th>\n",
       "    </tr>\n",
       "    <tr>\n",
       "      <th>ID</th>\n",
       "      <th></th>\n",
       "      <th></th>\n",
       "      <th></th>\n",
       "      <th></th>\n",
       "      <th></th>\n",
       "      <th></th>\n",
       "    </tr>\n",
       "  </thead>\n",
       "  <tbody>\n",
       "    <tr>\n",
       "      <th>13829</th>\n",
       "      <td>NaN</td>\n",
       "      <td>NaN</td>\n",
       "      <td>11</td>\n",
       "      <td>2</td>\n",
       "      <td>-1</td>\n",
       "      <td>0</td>\n",
       "    </tr>\n",
       "    <tr>\n",
       "      <th>22677</th>\n",
       "      <td>NaN</td>\n",
       "      <td>NaN</td>\n",
       "      <td>5</td>\n",
       "      <td>3</td>\n",
       "      <td>-1</td>\n",
       "      <td>0</td>\n",
       "    </tr>\n",
       "    <tr>\n",
       "      <th>10541</th>\n",
       "      <td>NaN</td>\n",
       "      <td>NaN</td>\n",
       "      <td>14</td>\n",
       "      <td>2</td>\n",
       "      <td>-1</td>\n",
       "      <td>0</td>\n",
       "    </tr>\n",
       "    <tr>\n",
       "      <th>13689</th>\n",
       "      <td>NaN</td>\n",
       "      <td>NaN</td>\n",
       "      <td>10</td>\n",
       "      <td>1</td>\n",
       "      <td>-1</td>\n",
       "      <td>0</td>\n",
       "    </tr>\n",
       "    <tr>\n",
       "      <th>11304</th>\n",
       "      <td>NaN</td>\n",
       "      <td>NaN</td>\n",
       "      <td>2</td>\n",
       "      <td>1</td>\n",
       "      <td>-1</td>\n",
       "      <td>0</td>\n",
       "    </tr>\n",
       "    <tr>\n",
       "      <th>...</th>\n",
       "      <td>...</td>\n",
       "      <td>...</td>\n",
       "      <td>...</td>\n",
       "      <td>...</td>\n",
       "      <td>...</td>\n",
       "      <td>...</td>\n",
       "    </tr>\n",
       "    <tr>\n",
       "      <th>50332</th>\n",
       "      <td>47.0</td>\n",
       "      <td>520.0</td>\n",
       "      <td>9</td>\n",
       "      <td>6</td>\n",
       "      <td>-1</td>\n",
       "      <td>0</td>\n",
       "    </tr>\n",
       "    <tr>\n",
       "      <th>51293</th>\n",
       "      <td>33.0</td>\n",
       "      <td>133.0</td>\n",
       "      <td>12</td>\n",
       "      <td>2</td>\n",
       "      <td>192</td>\n",
       "      <td>1</td>\n",
       "    </tr>\n",
       "    <tr>\n",
       "      <th>54023</th>\n",
       "      <td>40.0</td>\n",
       "      <td>2574.0</td>\n",
       "      <td>20</td>\n",
       "      <td>1</td>\n",
       "      <td>-1</td>\n",
       "      <td>0</td>\n",
       "    </tr>\n",
       "    <tr>\n",
       "      <th>53775</th>\n",
       "      <td>39.0</td>\n",
       "      <td>2467.0</td>\n",
       "      <td>19</td>\n",
       "      <td>2</td>\n",
       "      <td>276</td>\n",
       "      <td>3</td>\n",
       "    </tr>\n",
       "    <tr>\n",
       "      <th>51945</th>\n",
       "      <td>46.0</td>\n",
       "      <td>49.0</td>\n",
       "      <td>27</td>\n",
       "      <td>6</td>\n",
       "      <td>-1</td>\n",
       "      <td>0</td>\n",
       "    </tr>\n",
       "  </tbody>\n",
       "</table>\n",
       "<p>17161 rows × 6 columns</p>\n",
       "</div>"
      ],
      "text/plain": [
       "        age  balance  day  campaign  pdays  previous\n",
       "ID                                                  \n",
       "13829   NaN      NaN   11         2     -1         0\n",
       "22677   NaN      NaN    5         3     -1         0\n",
       "10541   NaN      NaN   14         2     -1         0\n",
       "13689   NaN      NaN   10         1     -1         0\n",
       "11304   NaN      NaN    2         1     -1         0\n",
       "...     ...      ...  ...       ...    ...       ...\n",
       "50332  47.0    520.0    9         6     -1         0\n",
       "51293  33.0    133.0   12         2    192         1\n",
       "54023  40.0   2574.0   20         1     -1         0\n",
       "53775  39.0   2467.0   19         2    276         3\n",
       "51945  46.0     49.0   27         6     -1         0\n",
       "\n",
       "[17161 rows x 6 columns]"
      ]
     },
     "execution_count": 334,
     "metadata": {},
     "output_type": "execute_result"
    }
   ],
   "source": [
    "df.select_dtypes(['int64', 'float64'])"
   ]
  },
  {
   "cell_type": "code",
   "execution_count": 335,
   "id": "3b1f806d",
   "metadata": {},
   "outputs": [],
   "source": [
    "numeric_features = ['age', 'balance', 'campaign', 'pdays', 'previous']\n",
    "categorical_features = df.columns.drop(numeric_features)"
   ]
  },
  {
   "cell_type": "code",
   "execution_count": 336,
   "id": "ca2f4c1e",
   "metadata": {},
   "outputs": [
    {
     "data": {
      "text/plain": [
       "(5, 10)"
      ]
     },
     "execution_count": 336,
     "metadata": {},
     "output_type": "execute_result"
    }
   ],
   "source": [
    "#Количество числовых и категориальных признаков\n",
    "len(numeric_features), len(categorical_features)"
   ]
  },
  {
   "cell_type": "code",
   "execution_count": 337,
   "id": "4e1a4e67",
   "metadata": {
    "scrolled": false
   },
   "outputs": [
    {
     "data": {
      "text/html": [
       "<div>\n",
       "<style scoped>\n",
       "    .dataframe tbody tr th:only-of-type {\n",
       "        vertical-align: middle;\n",
       "    }\n",
       "\n",
       "    .dataframe tbody tr th {\n",
       "        vertical-align: top;\n",
       "    }\n",
       "\n",
       "    .dataframe thead th {\n",
       "        text-align: right;\n",
       "    }\n",
       "</style>\n",
       "<table border=\"1\" class=\"dataframe\">\n",
       "  <thead>\n",
       "    <tr style=\"text-align: right;\">\n",
       "      <th></th>\n",
       "      <th>job</th>\n",
       "      <th>marital</th>\n",
       "      <th>education</th>\n",
       "      <th>default</th>\n",
       "      <th>housing</th>\n",
       "      <th>loan</th>\n",
       "      <th>contact</th>\n",
       "      <th>day</th>\n",
       "      <th>month</th>\n",
       "      <th>poutcome</th>\n",
       "    </tr>\n",
       "    <tr>\n",
       "      <th>ID</th>\n",
       "      <th></th>\n",
       "      <th></th>\n",
       "      <th></th>\n",
       "      <th></th>\n",
       "      <th></th>\n",
       "      <th></th>\n",
       "      <th></th>\n",
       "      <th></th>\n",
       "      <th></th>\n",
       "      <th></th>\n",
       "    </tr>\n",
       "  </thead>\n",
       "  <tbody>\n",
       "    <tr>\n",
       "      <th>13829</th>\n",
       "      <td>technician</td>\n",
       "      <td>single</td>\n",
       "      <td>tertiary</td>\n",
       "      <td>no</td>\n",
       "      <td>no</td>\n",
       "      <td>no</td>\n",
       "      <td>cellular</td>\n",
       "      <td>11</td>\n",
       "      <td>NaN</td>\n",
       "      <td>unknown</td>\n",
       "    </tr>\n",
       "    <tr>\n",
       "      <th>22677</th>\n",
       "      <td>services</td>\n",
       "      <td>single</td>\n",
       "      <td>secondary</td>\n",
       "      <td>no</td>\n",
       "      <td>yes</td>\n",
       "      <td>yes</td>\n",
       "      <td>unknown</td>\n",
       "      <td>5</td>\n",
       "      <td>NaN</td>\n",
       "      <td>unknown</td>\n",
       "    </tr>\n",
       "    <tr>\n",
       "      <th>10541</th>\n",
       "      <td>management</td>\n",
       "      <td>single</td>\n",
       "      <td>secondary</td>\n",
       "      <td>no</td>\n",
       "      <td>no</td>\n",
       "      <td>no</td>\n",
       "      <td>cellular</td>\n",
       "      <td>14</td>\n",
       "      <td>NaN</td>\n",
       "      <td>unknown</td>\n",
       "    </tr>\n",
       "    <tr>\n",
       "      <th>13689</th>\n",
       "      <td>technician</td>\n",
       "      <td>married</td>\n",
       "      <td>unknown</td>\n",
       "      <td>no</td>\n",
       "      <td>yes</td>\n",
       "      <td>no</td>\n",
       "      <td>cellular</td>\n",
       "      <td>10</td>\n",
       "      <td>NaN</td>\n",
       "      <td>unknown</td>\n",
       "    </tr>\n",
       "    <tr>\n",
       "      <th>11304</th>\n",
       "      <td>admin.</td>\n",
       "      <td>single</td>\n",
       "      <td>secondary</td>\n",
       "      <td>no</td>\n",
       "      <td>no</td>\n",
       "      <td>yes</td>\n",
       "      <td>unknown</td>\n",
       "      <td>2</td>\n",
       "      <td>NaN</td>\n",
       "      <td>unknown</td>\n",
       "    </tr>\n",
       "    <tr>\n",
       "      <th>...</th>\n",
       "      <td>...</td>\n",
       "      <td>...</td>\n",
       "      <td>...</td>\n",
       "      <td>...</td>\n",
       "      <td>...</td>\n",
       "      <td>...</td>\n",
       "      <td>...</td>\n",
       "      <td>...</td>\n",
       "      <td>...</td>\n",
       "      <td>...</td>\n",
       "    </tr>\n",
       "    <tr>\n",
       "      <th>50332</th>\n",
       "      <td>admin.</td>\n",
       "      <td>married</td>\n",
       "      <td>secondary</td>\n",
       "      <td>no</td>\n",
       "      <td>no</td>\n",
       "      <td>no</td>\n",
       "      <td>telephone</td>\n",
       "      <td>9</td>\n",
       "      <td>feb</td>\n",
       "      <td>unknown</td>\n",
       "    </tr>\n",
       "    <tr>\n",
       "      <th>51293</th>\n",
       "      <td>technician</td>\n",
       "      <td>married</td>\n",
       "      <td>secondary</td>\n",
       "      <td>no</td>\n",
       "      <td>no</td>\n",
       "      <td>no</td>\n",
       "      <td>cellular</td>\n",
       "      <td>12</td>\n",
       "      <td>nov</td>\n",
       "      <td>success</td>\n",
       "    </tr>\n",
       "    <tr>\n",
       "      <th>54023</th>\n",
       "      <td>admin.</td>\n",
       "      <td>married</td>\n",
       "      <td>secondary</td>\n",
       "      <td>no</td>\n",
       "      <td>yes</td>\n",
       "      <td>no</td>\n",
       "      <td>cellular</td>\n",
       "      <td>20</td>\n",
       "      <td>nov</td>\n",
       "      <td>unknown</td>\n",
       "    </tr>\n",
       "    <tr>\n",
       "      <th>53775</th>\n",
       "      <td>blue-collar</td>\n",
       "      <td>married</td>\n",
       "      <td>secondary</td>\n",
       "      <td>no</td>\n",
       "      <td>no</td>\n",
       "      <td>no</td>\n",
       "      <td>cellular</td>\n",
       "      <td>19</td>\n",
       "      <td>jul</td>\n",
       "      <td>other</td>\n",
       "    </tr>\n",
       "    <tr>\n",
       "      <th>51945</th>\n",
       "      <td>self-employed</td>\n",
       "      <td>married</td>\n",
       "      <td>primary</td>\n",
       "      <td>no</td>\n",
       "      <td>no</td>\n",
       "      <td>no</td>\n",
       "      <td>cellular</td>\n",
       "      <td>27</td>\n",
       "      <td>aug</td>\n",
       "      <td>unknown</td>\n",
       "    </tr>\n",
       "  </tbody>\n",
       "</table>\n",
       "<p>17161 rows × 10 columns</p>\n",
       "</div>"
      ],
      "text/plain": [
       "                 job  marital  education default housing loan    contact  day  \\\n",
       "ID                                                                              \n",
       "13829     technician   single   tertiary      no      no   no   cellular   11   \n",
       "22677       services   single  secondary      no     yes  yes    unknown    5   \n",
       "10541     management   single  secondary      no      no   no   cellular   14   \n",
       "13689     technician  married    unknown      no     yes   no   cellular   10   \n",
       "11304         admin.   single  secondary      no      no  yes    unknown    2   \n",
       "...              ...      ...        ...     ...     ...  ...        ...  ...   \n",
       "50332         admin.  married  secondary      no      no   no  telephone    9   \n",
       "51293     technician  married  secondary      no      no   no   cellular   12   \n",
       "54023         admin.  married  secondary      no     yes   no   cellular   20   \n",
       "53775    blue-collar  married  secondary      no      no   no   cellular   19   \n",
       "51945  self-employed  married    primary      no      no   no   cellular   27   \n",
       "\n",
       "      month poutcome  \n",
       "ID                    \n",
       "13829   NaN  unknown  \n",
       "22677   NaN  unknown  \n",
       "10541   NaN  unknown  \n",
       "13689   NaN  unknown  \n",
       "11304   NaN  unknown  \n",
       "...     ...      ...  \n",
       "50332   feb  unknown  \n",
       "51293   nov  success  \n",
       "54023   nov  unknown  \n",
       "53775   jul    other  \n",
       "51945   aug  unknown  \n",
       "\n",
       "[17161 rows x 10 columns]"
      ]
     },
     "execution_count": 337,
     "metadata": {},
     "output_type": "execute_result"
    }
   ],
   "source": [
    "df[categorical_features]"
   ]
  },
  {
   "cell_type": "markdown",
   "id": "a31ab744",
   "metadata": {},
   "source": [
    "<i> Визуализируем распределения фичей"
   ]
  },
  {
   "cell_type": "code",
   "execution_count": 338,
   "id": "927e5aa9",
   "metadata": {},
   "outputs": [
    {
     "data": {
      "image/png": "[encoded data removed]",
      "text/plain": [
       "<Figure size 1080x1440 with 5 Axes>"
      ]
     },
     "metadata": {
      "needs_background": "light"
     },
     "output_type": "display_data"
    }
   ],
   "source": [
    "#Рисуем графики зависимости цены от числовых столбцов\n",
    "_, ax = plt.subplots(5, 1, figsize = (15, 20))\n",
    "for i in range(5):\n",
    "    n_col = i\n",
    "    ax[i].hist(df.loc[:, numeric_features].iloc[:, n_col], bins=70)\n",
    "    #ax[i].set_yscale('log')\n",
    "    ax[i].grid()\n",
    "    ax[i].set(\n",
    "        ylabel = 'number',\n",
    "        title = numeric_features[n_col])"
   ]
  },
  {
   "cell_type": "code",
   "execution_count": 339,
   "id": "c3cce6fb",
   "metadata": {},
   "outputs": [
    {
     "data": {
      "image/png": "[encoded data removed]",
      "text/plain": [
       "<Figure size 1080x1440 with 5 Axes>"
      ]
     },
     "metadata": {
      "needs_background": "light"
     },
     "output_type": "display_data"
    }
   ],
   "source": [
    "#Рисуем графики зависимости цены от категориальных столбцов _1\n",
    "_, ax = plt.subplots(5, 1, figsize = (15, 20))\n",
    "for i in range(5):\n",
    "    n_col = i\n",
    "    ax[i].hist(df.loc[:, categorical_features].iloc[:, n_col], bins=30)\n",
    "    #ax[i].set_yscale('log')\n",
    "    ax[i].grid()\n",
    "    ax[i].set(\n",
    "        ylabel = 'number',\n",
    "        title = categorical_features[n_col])"
   ]
  },
  {
   "cell_type": "code",
   "execution_count": 340,
   "id": "65afefd3",
   "metadata": {},
   "outputs": [
    {
     "data": {
      "image/png": "[encoded data removed]",
      "text/plain": [
       "<Figure size 1080x1440 with 5 Axes>"
      ]
     },
     "metadata": {
      "needs_background": "light"
     },
     "output_type": "display_data"
    }
   ],
   "source": [
    "#Рисуем графики зависимости цены от категориальных столбцов _2\n",
    "_, ax = plt.subplots(5, 1, figsize = (15, 20))\n",
    "for i in range(5):\n",
    "    n_col = 4+i\n",
    "    ax[i].hist(df.loc[:, categorical_features].iloc[:, n_col]\\\n",
    "               .fillna(df.loc[:, categorical_features].iloc[:, n_col].mode()[0]), bins=30)\n",
    "    #ax[i].set_yscale('log')\n",
    "    ax[i].grid()\n",
    "    ax[i].set(\n",
    "        ylabel = 'number',\n",
    "        title = categorical_features[n_col])"
   ]
  },
  {
   "cell_type": "markdown",
   "id": "ffb089f0",
   "metadata": {},
   "source": [
    "## Работа с пропусками  \n",
    "\n",
    "* <b>какими способами можно обработать пропуски:</b>\n",
    "    - в категориальных переменных\n",
    "      > Модой\n",
    "    - в числовых переменных\n",
    "      > средней или медианой\n",
    "    \n",
    "* <b>Какие плюсы у того или иного способа</b>\n",
    "\n",
    "\n"
   ]
  },
  {
   "cell_type": "markdown",
   "id": "2d14ff4d",
   "metadata": {},
   "source": [
    "* <b>Заполните пропуски способом, который считаете нужным</b>"
   ]
  },
  {
   "cell_type": "code",
   "execution_count": 341,
   "id": "06ac4b7d",
   "metadata": {},
   "outputs": [
    {
     "data": {
      "text/html": [
       "<div>\n",
       "<style scoped>\n",
       "    .dataframe tbody tr th:only-of-type {\n",
       "        vertical-align: middle;\n",
       "    }\n",
       "\n",
       "    .dataframe tbody tr th {\n",
       "        vertical-align: top;\n",
       "    }\n",
       "\n",
       "    .dataframe thead th {\n",
       "        text-align: right;\n",
       "    }\n",
       "</style>\n",
       "<table border=\"1\" class=\"dataframe\">\n",
       "  <thead>\n",
       "    <tr style=\"text-align: right;\">\n",
       "      <th></th>\n",
       "      <th>age</th>\n",
       "      <th>job</th>\n",
       "      <th>marital</th>\n",
       "      <th>education</th>\n",
       "      <th>default</th>\n",
       "      <th>balance</th>\n",
       "      <th>housing</th>\n",
       "      <th>loan</th>\n",
       "      <th>contact</th>\n",
       "      <th>day</th>\n",
       "      <th>month</th>\n",
       "      <th>campaign</th>\n",
       "      <th>pdays</th>\n",
       "      <th>previous</th>\n",
       "      <th>poutcome</th>\n",
       "      <th>y</th>\n",
       "    </tr>\n",
       "    <tr>\n",
       "      <th>ID</th>\n",
       "      <th></th>\n",
       "      <th></th>\n",
       "      <th></th>\n",
       "      <th></th>\n",
       "      <th></th>\n",
       "      <th></th>\n",
       "      <th></th>\n",
       "      <th></th>\n",
       "      <th></th>\n",
       "      <th></th>\n",
       "      <th></th>\n",
       "      <th></th>\n",
       "      <th></th>\n",
       "      <th></th>\n",
       "      <th></th>\n",
       "      <th></th>\n",
       "    </tr>\n",
       "  </thead>\n",
       "  <tbody>\n",
       "    <tr>\n",
       "      <th>13829</th>\n",
       "      <td>NaN</td>\n",
       "      <td>technician</td>\n",
       "      <td>single</td>\n",
       "      <td>tertiary</td>\n",
       "      <td>no</td>\n",
       "      <td>NaN</td>\n",
       "      <td>no</td>\n",
       "      <td>no</td>\n",
       "      <td>cellular</td>\n",
       "      <td>11</td>\n",
       "      <td>NaN</td>\n",
       "      <td>2</td>\n",
       "      <td>-1</td>\n",
       "      <td>0</td>\n",
       "      <td>unknown</td>\n",
       "      <td>0</td>\n",
       "    </tr>\n",
       "    <tr>\n",
       "      <th>22677</th>\n",
       "      <td>NaN</td>\n",
       "      <td>services</td>\n",
       "      <td>single</td>\n",
       "      <td>secondary</td>\n",
       "      <td>no</td>\n",
       "      <td>NaN</td>\n",
       "      <td>yes</td>\n",
       "      <td>yes</td>\n",
       "      <td>unknown</td>\n",
       "      <td>5</td>\n",
       "      <td>NaN</td>\n",
       "      <td>3</td>\n",
       "      <td>-1</td>\n",
       "      <td>0</td>\n",
       "      <td>unknown</td>\n",
       "      <td>0</td>\n",
       "    </tr>\n",
       "    <tr>\n",
       "      <th>10541</th>\n",
       "      <td>NaN</td>\n",
       "      <td>management</td>\n",
       "      <td>single</td>\n",
       "      <td>secondary</td>\n",
       "      <td>no</td>\n",
       "      <td>NaN</td>\n",
       "      <td>no</td>\n",
       "      <td>no</td>\n",
       "      <td>cellular</td>\n",
       "      <td>14</td>\n",
       "      <td>NaN</td>\n",
       "      <td>2</td>\n",
       "      <td>-1</td>\n",
       "      <td>0</td>\n",
       "      <td>unknown</td>\n",
       "      <td>0</td>\n",
       "    </tr>\n",
       "    <tr>\n",
       "      <th>13689</th>\n",
       "      <td>NaN</td>\n",
       "      <td>technician</td>\n",
       "      <td>married</td>\n",
       "      <td>unknown</td>\n",
       "      <td>no</td>\n",
       "      <td>NaN</td>\n",
       "      <td>yes</td>\n",
       "      <td>no</td>\n",
       "      <td>cellular</td>\n",
       "      <td>10</td>\n",
       "      <td>NaN</td>\n",
       "      <td>1</td>\n",
       "      <td>-1</td>\n",
       "      <td>0</td>\n",
       "      <td>unknown</td>\n",
       "      <td>0</td>\n",
       "    </tr>\n",
       "    <tr>\n",
       "      <th>11304</th>\n",
       "      <td>NaN</td>\n",
       "      <td>admin.</td>\n",
       "      <td>single</td>\n",
       "      <td>secondary</td>\n",
       "      <td>no</td>\n",
       "      <td>NaN</td>\n",
       "      <td>no</td>\n",
       "      <td>yes</td>\n",
       "      <td>unknown</td>\n",
       "      <td>2</td>\n",
       "      <td>NaN</td>\n",
       "      <td>1</td>\n",
       "      <td>-1</td>\n",
       "      <td>0</td>\n",
       "      <td>unknown</td>\n",
       "      <td>0</td>\n",
       "    </tr>\n",
       "  </tbody>\n",
       "</table>\n",
       "</div>"
      ],
      "text/plain": [
       "       age         job  marital  education default  balance housing loan  \\\n",
       "ID                                                                         \n",
       "13829  NaN  technician   single   tertiary      no      NaN      no   no   \n",
       "22677  NaN    services   single  secondary      no      NaN     yes  yes   \n",
       "10541  NaN  management   single  secondary      no      NaN      no   no   \n",
       "13689  NaN  technician  married    unknown      no      NaN     yes   no   \n",
       "11304  NaN      admin.   single  secondary      no      NaN      no  yes   \n",
       "\n",
       "        contact  day month  campaign  pdays  previous poutcome  y  \n",
       "ID                                                                 \n",
       "13829  cellular   11   NaN         2     -1         0  unknown  0  \n",
       "22677   unknown    5   NaN         3     -1         0  unknown  0  \n",
       "10541  cellular   14   NaN         2     -1         0  unknown  0  \n",
       "13689  cellular   10   NaN         1     -1         0  unknown  0  \n",
       "11304   unknown    2   NaN         1     -1         0  unknown  0  "
      ]
     },
     "execution_count": 341,
     "metadata": {},
     "output_type": "execute_result"
    }
   ],
   "source": [
    "#Рассмотрим Nan там, где их мало это month и balance\n",
    "\n",
    "df_train[df_train[['month', 'balance']].isna().any(1)]"
   ]
  },
  {
   "cell_type": "code",
   "execution_count": 342,
   "id": "ad848f22",
   "metadata": {},
   "outputs": [],
   "source": [
    "# Если баланс не известен, то заполняем 0 (что его нет)\n",
    "# Месяц заполняем самым частым месяцем \n",
    "df['balance'] = df['balance'].fillna(0)\n",
    "df['month'] = df['month'].fillna(df['month'].mode()[0])"
   ]
  },
  {
   "cell_type": "code",
   "execution_count": 343,
   "id": "d85d824e",
   "metadata": {},
   "outputs": [],
   "source": [
    "# Заполняем возраст средним по профессии\n",
    "#df = df.fillna(dict(df.groupby(by = 'job')['age'].mean().astype(int)),axis=0)\n",
    "df['age'] = df.apply(\n",
    "    lambda row: dict(df.groupby(by = 'job')['age'].mean().astype(int))[row['job']]\n",
    "    if np.isnan(row['age']) else row['age'],\n",
    "    axis=1)"
   ]
  },
  {
   "cell_type": "code",
   "execution_count": 344,
   "id": "2c0beeb2",
   "metadata": {},
   "outputs": [
    {
     "data": {
      "text/plain": [
       "age          0\n",
       "job          0\n",
       "marital      0\n",
       "education    0\n",
       "default      0\n",
       "balance      0\n",
       "housing      0\n",
       "loan         0\n",
       "contact      0\n",
       "day          0\n",
       "month        0\n",
       "campaign     0\n",
       "pdays        0\n",
       "previous     0\n",
       "poutcome     0\n",
       "dtype: int64"
      ]
     },
     "execution_count": 344,
     "metadata": {},
     "output_type": "execute_result"
    }
   ],
   "source": [
    "df.isna().sum()"
   ]
  },
  {
   "cell_type": "markdown",
   "id": "847376e0",
   "metadata": {},
   "source": [
    "## Статистика\n",
    "\n"
   ]
  },
  {
   "cell_type": "markdown",
   "id": "88f797fc",
   "metadata": {},
   "source": [
    "* <b>Что такое t-test/z-test и для чего он применяется?</b>"
   ]
  },
  {
   "cell_type": "markdown",
   "id": "7ea3c5d8",
   "metadata": {},
   "source": [
    "Проверка гипотезы о равенстве средних при неизвестном и известном дисперсии соответственно"
   ]
  },
  {
   "cell_type": "markdown",
   "id": "bfad983a",
   "metadata": {},
   "source": [
    "* <b>Примените t-test для проверки значимости признака `balance` в разрезе класса</b> и прокомментируйте поулученный результат"
   ]
  },
  {
   "cell_type": "code",
   "execution_count": 346,
   "id": "736c13f4",
   "metadata": {},
   "outputs": [],
   "source": [
    "from scipy.stats import ttest_ind"
   ]
  },
  {
   "cell_type": "code",
   "execution_count": 347,
   "id": "0390b5be",
   "metadata": {
    "scrolled": true
   },
   "outputs": [
    {
     "data": {
      "text/plain": [
       "Ttest_indResult(statistic=-7.696864017900948, pvalue=1.4959531894013122e-14)"
      ]
     },
     "execution_count": 347,
     "metadata": {},
     "output_type": "execute_result"
    }
   ],
   "source": [
    "ttest_ind(df_train.fillna(0)[df_train['y'] == 0]['balance'], df_train.fillna(0)[df_train['y'] == 1]['balance'])"
   ]
  },
  {
   "cell_type": "markdown",
   "id": "b51d9616",
   "metadata": {},
   "source": [
    "Так значение p-value достаточно низкое, то значит эти две подвыборки статистически значимы, то есть\n",
    "фича <b>balance </b> влияет на целевой признак"
   ]
  },
  {
   "cell_type": "markdown",
   "id": "70e876a0",
   "metadata": {},
   "source": [
    "## Кодирование категориальных перменных\n",
    "\n",
    "* <b>Для чего нужно кодировать категориальные переменные?</b>\n",
    "    > Потому что модели машинного обучения работают с числами как минимум при вычислении градиента\n",
    "* <b>Какие способы кодирования категориальных переменных вам известно</b>\n",
    "    > one-hot, target, label"
   ]
  },
  {
   "cell_type": "markdown",
   "id": "85c9977b",
   "metadata": {},
   "source": [
    "* <b>Закодируйте переменные соответствующим способом</b>"
   ]
  },
  {
   "cell_type": "code",
   "execution_count": 348,
   "id": "78b870c6",
   "metadata": {},
   "outputs": [
    {
     "data": {
      "text/plain": [
       "['marital', 'poutcome', 'education']"
      ]
     },
     "execution_count": 348,
     "metadata": {},
     "output_type": "execute_result"
    }
   ],
   "source": [
    "one_hot_features = ['job', 'default', 'housing', 'loan', 'contact', 'month', 'day']\n",
    "label_features = list(set(categorical_features) - set(one_hot_features))\n",
    "label_features"
   ]
  },
  {
   "cell_type": "code",
   "execution_count": 349,
   "id": "6fdc09c5",
   "metadata": {
    "scrolled": false
   },
   "outputs": [
    {
     "data": {
      "text/plain": [
       "job          12\n",
       "marital       3\n",
       "education     4\n",
       "default       2\n",
       "housing       2\n",
       "loan          2\n",
       "contact       3\n",
       "day          31\n",
       "month        12\n",
       "poutcome      4\n",
       "dtype: int64"
      ]
     },
     "execution_count": 349,
     "metadata": {},
     "output_type": "execute_result"
    }
   ],
   "source": [
    "df[categorical_features].nunique()"
   ]
  },
  {
   "cell_type": "code",
   "execution_count": 350,
   "id": "53e2ec22",
   "metadata": {},
   "outputs": [
    {
     "data": {
      "image/png": "[encoded data removed]",
      "text/plain": [
       "<Figure size 432x288 with 1 Axes>"
      ]
     },
     "metadata": {
      "needs_background": "light"
     },
     "output_type": "display_data"
    }
   ],
   "source": [
    "sns.histplot(x=\"marital\", hue=\"y\", multiple='dodge', data=df_train);"
   ]
  },
  {
   "cell_type": "code",
   "execution_count": 351,
   "id": "dd6e554a",
   "metadata": {},
   "outputs": [],
   "source": [
    "#Заполним фичу marital их долями оставлять депозит\n",
    "mar_divorced = len(df_train[(df_train['y'] == 1) & (df_train['marital'] == 'divorced')])/len(df_train['marital'] == 'divorced')\n",
    "mar_single = len(df_train[(df_train['y'] == 1) & (df_train['marital'] == 'single')])/len(df_train['marital'] == 'single')\n",
    "mar_married = len(df_train[(df_train['y'] == 1) & (df_train['marital'] == 'married')])/len(df_train['marital'] == 'married')\n",
    "\n",
    "df['marital'] = df['marital'].replace('divorced', mar_divorced)\n",
    "df['marital'] = df['marital'].replace('single', mar_single)\n",
    "df['marital'] = df['marital'].replace('married', mar_married)"
   ]
  },
  {
   "cell_type": "code",
   "execution_count": 352,
   "id": "f2ee43a2",
   "metadata": {},
   "outputs": [
    {
     "data": {
      "image/png": "[encoded data removed]",
      "text/plain": [
       "<Figure size 432x288 with 1 Axes>"
      ]
     },
     "metadata": {
      "needs_background": "light"
     },
     "output_type": "display_data"
    }
   ],
   "source": [
    "sns.histplot(x=\"poutcome\", hue=\"y\", multiple='dodge', data=df_train);"
   ]
  },
  {
   "cell_type": "code",
   "execution_count": 353,
   "id": "a2af7c2e",
   "metadata": {},
   "outputs": [],
   "source": [
    "#Заполним фичу poutcome их долями оставлять депозит\n",
    "pout_unkn = len(df_train[(df_train['y'] == 1) & (df_train['poutcome'] == 'unknown')])/len(df_train['poutcome'] == 'unknown')\n",
    "pout_other = len(df_train[(df_train['y'] == 1) & (df_train['poutcome'] == 'other')])/len(df_train['poutcome'] == 'other')\n",
    "pout_fail = len(df_train[(df_train['y'] == 1) & (df_train['poutcome'] == 'failure')])/len(df_train['poutcome'] == 'failure')\n",
    "pout_suc = len(df_train[(df_train['y'] == 1) & (df_train['poutcome'] == 'success')])/len(df_train['poutcome'] == 'success')\n",
    "\n",
    "df['poutcome'] = df['poutcome'].replace('unknown', pout_unkn)\n",
    "df['poutcome'] = df['poutcome'].replace('other', pout_other)\n",
    "df['poutcome'] = df['poutcome'].replace('failure', pout_fail)\n",
    "df['poutcome'] = df['poutcome'].replace('success', pout_suc)"
   ]
  },
  {
   "cell_type": "code",
   "execution_count": 354,
   "id": "751168e2",
   "metadata": {},
   "outputs": [
    {
     "data": {
      "image/png": "[encoded data removed]",
      "text/plain": [
       "<Figure size 432x288 with 1 Axes>"
      ]
     },
     "metadata": {
      "needs_background": "light"
     },
     "output_type": "display_data"
    }
   ],
   "source": [
    "sns.histplot(x=\"education\", hue=\"y\", multiple='dodge', data=df_train);"
   ]
  },
  {
   "cell_type": "code",
   "execution_count": 355,
   "id": "05050268",
   "metadata": {},
   "outputs": [],
   "source": [
    "#Заполним фичу образование их долями оставлять депозит\n",
    "edu_tert = len(df_train[(df_train['y'] == 1) & (df_train['education'] == 'tertiary')])/len(df_train['education'] == 'tertiary')\n",
    "edu_sec = len(df_train[(df_train['y'] == 1) & (df_train['education'] == 'secondary')])/len(df_train['education'] == 'secondary')\n",
    "edu_prim = len(df_train[(df_train['y'] == 1) & (df_train['education'] == 'primary')])/len(df_train['education'] == 'primary')\n",
    "edu_unkn = len(df_train[(df_train['y'] == 1) & (df_train['education'] == 'unknown')])/len(df_train['education'] == 'unknown')\n",
    "\n",
    "df['education'] = df['education'].replace('tertiary', edu_tert)\n",
    "df['education'] = df['education'].replace('secondary', edu_sec)\n",
    "df['education'] = df['education'].replace('primary', edu_prim)\n",
    "df['education'] = df['education'].replace('unknown', edu_unkn)"
   ]
  },
  {
   "cell_type": "code",
   "execution_count": 356,
   "id": "750d153d",
   "metadata": {},
   "outputs": [
    {
     "data": {
      "text/plain": [
       "(17161, 15)"
      ]
     },
     "execution_count": 356,
     "metadata": {},
     "output_type": "execute_result"
    }
   ],
   "source": [
    "df.shape"
   ]
  },
  {
   "cell_type": "code",
   "execution_count": 357,
   "id": "b7085782",
   "metadata": {},
   "outputs": [],
   "source": [
    "df['pdays'] = df['pdays'].replace(-1, df['pdays'].max())"
   ]
  },
  {
   "cell_type": "code",
   "execution_count": 358,
   "id": "b93b522e",
   "metadata": {},
   "outputs": [],
   "source": [
    "df = pd.get_dummies(df, columns=one_hot_features)"
   ]
  },
  {
   "cell_type": "code",
   "execution_count": 359,
   "id": "be159839",
   "metadata": {},
   "outputs": [],
   "source": [
    "#Чтобы посмотреть значения всех колонок\n",
    "pd.set_option('display.max_columns', 80)"
   ]
  },
  {
   "cell_type": "code",
   "execution_count": 360,
   "id": "f1827e90",
   "metadata": {},
   "outputs": [
    {
     "data": {
      "text/plain": [
       "(17161, 72)"
      ]
     },
     "execution_count": 360,
     "metadata": {},
     "output_type": "execute_result"
    }
   ],
   "source": [
    "df.shape"
   ]
  },
  {
   "cell_type": "markdown",
   "id": "bb30dfe8",
   "metadata": {},
   "source": [
    "## Scaling"
   ]
  },
  {
   "cell_type": "markdown",
   "id": "bbd28c24",
   "metadata": {},
   "source": [
    "* <b>Какие основные Scaler'ы знаете</b>\n",
    "    > StandardScaler, MinMaxScaler\n",
    "* <b>Для чего это нужно</b>\n",
    "    > Чтобы привести все переменные к одной шкале и учитывать их равнозначно"
   ]
  },
  {
   "cell_type": "markdown",
   "id": "d66d44ad",
   "metadata": {},
   "source": [
    "* <b>Отобразите боксплоты, отмасштабируйте свои признаки</b>"
   ]
  },
  {
   "cell_type": "code",
   "execution_count": 361,
   "id": "fbb75352",
   "metadata": {},
   "outputs": [],
   "source": [
    "from sklearn.preprocessing import StandardScaler"
   ]
  },
  {
   "cell_type": "code",
   "execution_count": 362,
   "id": "6d6287bd",
   "metadata": {},
   "outputs": [
    {
     "data": {
      "image/png": "[encoded data removed]",
      "text/plain": [
       "<Figure size 432x288 with 1 Axes>"
      ]
     },
     "metadata": {
      "needs_background": "light"
     },
     "output_type": "display_data"
    }
   ],
   "source": [
    "sns.boxplot(x=df['balance']);"
   ]
  },
  {
   "cell_type": "code",
   "execution_count": 363,
   "id": "9ee7af51",
   "metadata": {},
   "outputs": [],
   "source": [
    "ss_scaler = StandardScaler()\n",
    "scal = ss_scaler.fit_transform(df)\n",
    "X_scaled = pd.DataFrame(scal, columns=df.columns)"
   ]
  },
  {
   "cell_type": "code",
   "execution_count": 364,
   "id": "6a0ef8d2",
   "metadata": {},
   "outputs": [
    {
     "data": {
      "text/plain": [
       "<AxesSubplot:xlabel='balance'>"
      ]
     },
     "execution_count": 364,
     "metadata": {},
     "output_type": "execute_result"
    },
    {
     "data": {
      "image/png": "[encoded data removed]",
      "text/plain": [
       "<Figure size 432x288 with 1 Axes>"
      ]
     },
     "metadata": {
      "needs_background": "light"
     },
     "output_type": "display_data"
    }
   ],
   "source": [
    "sns.boxplot(x=X_scaled['balance'])"
   ]
  },
  {
   "cell_type": "code",
   "execution_count": 365,
   "id": "d82cde50",
   "metadata": {},
   "outputs": [],
   "source": [
    "X_train = X_scaled.iloc[:12870]\n",
    "X_test = X_scaled.iloc[12870:]"
   ]
  },
  {
   "cell_type": "markdown",
   "id": "a73d6f50",
   "metadata": {},
   "source": [
    "# Классификация"
   ]
  },
  {
   "cell_type": "markdown",
   "id": "ee5655e3",
   "metadata": {},
   "source": [
    "Решите задачу классификации для переменной `y` и сформируйте файл для `submission`. Не забывай, что твоя первая модель `baseline` - должна быть самой простой с точки зрения предобработки и настройки.\n",
    "\n",
    "❗️ Столбец с предсказаниями в файле `submission.csv` должен называться `predict`. Если он будет называться иначе, файл не пройдет валидацию. \\\n",
    "❗️ Обратите внимание, что `ID` в файле `test.csv` и `submission.csv` совпадают. Решить задачу нужно для каждого конкретного `ID`.  "
   ]
  },
  {
   "cell_type": "code",
   "execution_count": 366,
   "id": "6f73b771",
   "metadata": {},
   "outputs": [],
   "source": [
    "from sklearn.linear_model import LogisticRegression\n",
    "from sklearn.ensemble import RandomForestClassifier\n",
    "from catboost import CatBoostClassifier"
   ]
  },
  {
   "cell_type": "code",
   "execution_count": 367,
   "id": "1b36a966",
   "metadata": {},
   "outputs": [],
   "source": [
    "from sklearn.model_selection import GridSearchCV"
   ]
  },
  {
   "cell_type": "code",
   "execution_count": 369,
   "id": "832384b7",
   "metadata": {},
   "outputs": [],
   "source": [
    "lr = LogisticRegression()\n",
    "rf = RandomForestClassifier()\n",
    "catb = CatBoostClassifier(verbose = 0)"
   ]
  },
  {
   "cell_type": "code",
   "execution_count": 400,
   "id": "75a12235",
   "metadata": {},
   "outputs": [
    {
     "data": {
      "text/html": [
       "<style>#sk-container-id-12 {color: black;background-color: white;}#sk-container-id-12 pre{padding: 0;}#sk-container-id-12 div.sk-toggleable {background-color: white;}#sk-container-id-12 label.sk-toggleable__label {cursor: pointer;display: block;width: 100%;margin-bottom: 0;padding: 0.3em;box-sizing: border-box;text-align: center;}#sk-container-id-12 label.sk-toggleable__label-arrow:before {content: \"▸\";float: left;margin-right: 0.25em;color: #696969;}#sk-container-id-12 label.sk-toggleable__label-arrow:hover:before {color: black;}#sk-container-id-12 div.sk-estimator:hover label.sk-toggleable__label-arrow:before {color: black;}#sk-container-id-12 div.sk-toggleable__content {max-height: 0;max-width: 0;overflow: hidden;text-align: left;background-color: #f0f8ff;}#sk-container-id-12 div.sk-toggleable__content pre {margin: 0.2em;color: black;border-radius: 0.25em;background-color: #f0f8ff;}#sk-container-id-12 input.sk-toggleable__control:checked~div.sk-toggleable__content {max-height: 200px;max-width: 100%;overflow: auto;}#sk-container-id-12 input.sk-toggleable__control:checked~label.sk-toggleable__label-arrow:before {content: \"▾\";}#sk-container-id-12 div.sk-estimator input.sk-toggleable__control:checked~label.sk-toggleable__label {background-color: #d4ebff;}#sk-container-id-12 div.sk-label input.sk-toggleable__control:checked~label.sk-toggleable__label {background-color: #d4ebff;}#sk-container-id-12 input.sk-hidden--visually {border: 0;clip: rect(1px 1px 1px 1px);clip: rect(1px, 1px, 1px, 1px);height: 1px;margin: -1px;overflow: hidden;padding: 0;position: absolute;width: 1px;}#sk-container-id-12 div.sk-estimator {font-family: monospace;background-color: #f0f8ff;border: 1px dotted black;border-radius: 0.25em;box-sizing: border-box;margin-bottom: 0.5em;}#sk-container-id-12 div.sk-estimator:hover {background-color: #d4ebff;}#sk-container-id-12 div.sk-parallel-item::after {content: \"\";width: 100%;border-bottom: 1px solid gray;flex-grow: 1;}#sk-container-id-12 div.sk-label:hover label.sk-toggleable__label {background-color: #d4ebff;}#sk-container-id-12 div.sk-serial::before {content: \"\";position: absolute;border-left: 1px solid gray;box-sizing: border-box;top: 0;bottom: 0;left: 50%;z-index: 0;}#sk-container-id-12 div.sk-serial {display: flex;flex-direction: column;align-items: center;background-color: white;padding-right: 0.2em;padding-left: 0.2em;position: relative;}#sk-container-id-12 div.sk-item {position: relative;z-index: 1;}#sk-container-id-12 div.sk-parallel {display: flex;align-items: stretch;justify-content: center;background-color: white;position: relative;}#sk-container-id-12 div.sk-item::before, #sk-container-id-12 div.sk-parallel-item::before {content: \"\";position: absolute;border-left: 1px solid gray;box-sizing: border-box;top: 0;bottom: 0;left: 50%;z-index: -1;}#sk-container-id-12 div.sk-parallel-item {display: flex;flex-direction: column;z-index: 1;position: relative;background-color: white;}#sk-container-id-12 div.sk-parallel-item:first-child::after {align-self: flex-end;width: 50%;}#sk-container-id-12 div.sk-parallel-item:last-child::after {align-self: flex-start;width: 50%;}#sk-container-id-12 div.sk-parallel-item:only-child::after {width: 0;}#sk-container-id-12 div.sk-dashed-wrapped {border: 1px dashed gray;margin: 0 0.4em 0.5em 0.4em;box-sizing: border-box;padding-bottom: 0.4em;background-color: white;}#sk-container-id-12 div.sk-label label {font-family: monospace;font-weight: bold;display: inline-block;line-height: 1.2em;}#sk-container-id-12 div.sk-label-container {text-align: center;}#sk-container-id-12 div.sk-container {/* jupyter's `normalize.less` sets `[hidden] { display: none; }` but bootstrap.min.css set `[hidden] { display: none !important; }` so we also need the `!important` here to be able to override the default hidden behavior on the sphinx rendered scikit-learn.org. See: https://github.com/scikit-learn/scikit-learn/issues/21755 */display: inline-block !important;position: relative;}#sk-container-id-12 div.sk-text-repr-fallback {display: none;}</style><div id=\"sk-container-id-12\" class=\"sk-top-container\"><div class=\"sk-text-repr-fallback\"><pre>GridSearchCV(cv=4, estimator=RandomForestClassifier(), n_jobs=-1,\n",
       "             param_grid={&#x27;max_depth&#x27;: [1, 2, 3, 4, 5],\n",
       "                         &#x27;min_samples_leaf&#x27;: [2, 3],\n",
       "                         &#x27;min_samples_split&#x27;: [2, 3, 4],\n",
       "                         &#x27;n_estimators&#x27;: [60, 100, 120]},\n",
       "             scoring=&#x27;accuracy&#x27;)</pre><b>In a Jupyter environment, please rerun this cell to show the HTML representation or trust the notebook. <br />On GitHub, the HTML representation is unable to render, please try loading this page with nbviewer.org.</b></div><div class=\"sk-container\" hidden><div class=\"sk-item sk-dashed-wrapped\"><div class=\"sk-label-container\"><div class=\"sk-label sk-toggleable\"><input class=\"sk-toggleable__control sk-hidden--visually\" id=\"sk-estimator-id-26\" type=\"checkbox\" ><label for=\"sk-estimator-id-26\" class=\"sk-toggleable__label sk-toggleable__label-arrow\">GridSearchCV</label><div class=\"sk-toggleable__content\"><pre>GridSearchCV(cv=4, estimator=RandomForestClassifier(), n_jobs=-1,\n",
       "             param_grid={&#x27;max_depth&#x27;: [1, 2, 3, 4, 5],\n",
       "                         &#x27;min_samples_leaf&#x27;: [2, 3],\n",
       "                         &#x27;min_samples_split&#x27;: [2, 3, 4],\n",
       "                         &#x27;n_estimators&#x27;: [60, 100, 120]},\n",
       "             scoring=&#x27;accuracy&#x27;)</pre></div></div></div><div class=\"sk-parallel\"><div class=\"sk-parallel-item\"><div class=\"sk-item\"><div class=\"sk-label-container\"><div class=\"sk-label sk-toggleable\"><input class=\"sk-toggleable__control sk-hidden--visually\" id=\"sk-estimator-id-27\" type=\"checkbox\" ><label for=\"sk-estimator-id-27\" class=\"sk-toggleable__label sk-toggleable__label-arrow\">estimator: RandomForestClassifier</label><div class=\"sk-toggleable__content\"><pre>RandomForestClassifier()</pre></div></div></div><div class=\"sk-serial\"><div class=\"sk-item\"><div class=\"sk-estimator sk-toggleable\"><input class=\"sk-toggleable__control sk-hidden--visually\" id=\"sk-estimator-id-28\" type=\"checkbox\" ><label for=\"sk-estimator-id-28\" class=\"sk-toggleable__label sk-toggleable__label-arrow\">RandomForestClassifier</label><div class=\"sk-toggleable__content\"><pre>RandomForestClassifier()</pre></div></div></div></div></div></div></div></div></div></div>"
      ],
      "text/plain": [
       "GridSearchCV(cv=4, estimator=RandomForestClassifier(), n_jobs=-1,\n",
       "             param_grid={'max_depth': [1, 2, 3, 4, 5],\n",
       "                         'min_samples_leaf': [2, 3],\n",
       "                         'min_samples_split': [2, 3, 4],\n",
       "                         'n_estimators': [60, 100, 120]},\n",
       "             scoring='accuracy')"
      ]
     },
     "execution_count": 400,
     "metadata": {},
     "output_type": "execute_result"
    }
   ],
   "source": [
    "#GridSearchCV on randomForest\n",
    "\n",
    "rf_base_params = {\n",
    "    'n_estimators': [60, 100, 120],\n",
    "    'max_depth': [1, 2, 3, 4, 5],\n",
    "    'min_samples_split': [2, 3, 4],\n",
    "    'min_samples_leaf': [2, 3]\n",
    "}\n",
    "\n",
    "cv_rf = GridSearchCV(rf, param_grid=rf_base_params, scoring='roc_auc', cv=4, n_jobs=-1)\n",
    "cv_rf.fit(X_train, y_train)"
   ]
  },
  {
   "cell_type": "code",
   "execution_count": 420,
   "id": "7247cf09",
   "metadata": {},
   "outputs": [
    {
     "data": {
      "text/html": [
       "<div>\n",
       "<style scoped>\n",
       "    .dataframe tbody tr th:only-of-type {\n",
       "        vertical-align: middle;\n",
       "    }\n",
       "\n",
       "    .dataframe tbody tr th {\n",
       "        vertical-align: top;\n",
       "    }\n",
       "\n",
       "    .dataframe thead th {\n",
       "        text-align: right;\n",
       "    }\n",
       "</style>\n",
       "<table border=\"1\" class=\"dataframe\">\n",
       "  <thead>\n",
       "    <tr style=\"text-align: right;\">\n",
       "      <th></th>\n",
       "      <th>0</th>\n",
       "    </tr>\n",
       "  </thead>\n",
       "  <tbody>\n",
       "    <tr>\n",
       "      <th>job_student</th>\n",
       "      <td>0.009521</td>\n",
       "    </tr>\n",
       "    <tr>\n",
       "      <th>month_jun</th>\n",
       "      <td>0.009792</td>\n",
       "    </tr>\n",
       "    <tr>\n",
       "      <th>job_blue-collar</th>\n",
       "      <td>0.010039</td>\n",
       "    </tr>\n",
       "    <tr>\n",
       "      <th>month_aug</th>\n",
       "      <td>0.010617</td>\n",
       "    </tr>\n",
       "    <tr>\n",
       "      <th>marital</th>\n",
       "      <td>0.011171</td>\n",
       "    </tr>\n",
       "    <tr>\n",
       "      <th>month_apr</th>\n",
       "      <td>0.015690</td>\n",
       "    </tr>\n",
       "    <tr>\n",
       "      <th>campaign</th>\n",
       "      <td>0.017610</td>\n",
       "    </tr>\n",
       "    <tr>\n",
       "      <th>month_sep</th>\n",
       "      <td>0.020313</td>\n",
       "    </tr>\n",
       "    <tr>\n",
       "      <th>month_mar</th>\n",
       "      <td>0.028517</td>\n",
       "    </tr>\n",
       "    <tr>\n",
       "      <th>balance</th>\n",
       "      <td>0.029421</td>\n",
       "    </tr>\n",
       "    <tr>\n",
       "      <th>month_may</th>\n",
       "      <td>0.030414</td>\n",
       "    </tr>\n",
       "    <tr>\n",
       "      <th>month_oct</th>\n",
       "      <td>0.036539</td>\n",
       "    </tr>\n",
       "    <tr>\n",
       "      <th>contact_cellular</th>\n",
       "      <td>0.059736</td>\n",
       "    </tr>\n",
       "    <tr>\n",
       "      <th>housing_yes</th>\n",
       "      <td>0.063968</td>\n",
       "    </tr>\n",
       "    <tr>\n",
       "      <th>age</th>\n",
       "      <td>0.065478</td>\n",
       "    </tr>\n",
       "    <tr>\n",
       "      <th>housing_no</th>\n",
       "      <td>0.067399</td>\n",
       "    </tr>\n",
       "    <tr>\n",
       "      <th>previous</th>\n",
       "      <td>0.078415</td>\n",
       "    </tr>\n",
       "    <tr>\n",
       "      <th>contact_unknown</th>\n",
       "      <td>0.092347</td>\n",
       "    </tr>\n",
       "    <tr>\n",
       "      <th>poutcome</th>\n",
       "      <td>0.130738</td>\n",
       "    </tr>\n",
       "    <tr>\n",
       "      <th>pdays</th>\n",
       "      <td>0.138476</td>\n",
       "    </tr>\n",
       "  </tbody>\n",
       "</table>\n",
       "</div>"
      ],
      "text/plain": [
       "                         0\n",
       "job_student       0.009521\n",
       "month_jun         0.009792\n",
       "job_blue-collar   0.010039\n",
       "month_aug         0.010617\n",
       "marital           0.011171\n",
       "month_apr         0.015690\n",
       "campaign          0.017610\n",
       "month_sep         0.020313\n",
       "month_mar         0.028517\n",
       "balance           0.029421\n",
       "month_may         0.030414\n",
       "month_oct         0.036539\n",
       "contact_cellular  0.059736\n",
       "housing_yes       0.063968\n",
       "age               0.065478\n",
       "housing_no        0.067399\n",
       "previous          0.078415\n",
       "contact_unknown   0.092347\n",
       "poutcome          0.130738\n",
       "pdays             0.138476"
      ]
     },
     "execution_count": 420,
     "metadata": {},
     "output_type": "execute_result"
    }
   ],
   "source": [
    "pd.DataFrame(cv_rf.best_estimator_.feature_importances_, index = X_train.columns).sort_values(by=0).tail(20)"
   ]
  },
  {
   "cell_type": "code",
   "execution_count": 405,
   "id": "b0ba3eb8",
   "metadata": {},
   "outputs": [
    {
     "data": {
      "text/html": [
       "<style>#sk-container-id-13 {color: black;background-color: white;}#sk-container-id-13 pre{padding: 0;}#sk-container-id-13 div.sk-toggleable {background-color: white;}#sk-container-id-13 label.sk-toggleable__label {cursor: pointer;display: block;width: 100%;margin-bottom: 0;padding: 0.3em;box-sizing: border-box;text-align: center;}#sk-container-id-13 label.sk-toggleable__label-arrow:before {content: \"▸\";float: left;margin-right: 0.25em;color: #696969;}#sk-container-id-13 label.sk-toggleable__label-arrow:hover:before {color: black;}#sk-container-id-13 div.sk-estimator:hover label.sk-toggleable__label-arrow:before {color: black;}#sk-container-id-13 div.sk-toggleable__content {max-height: 0;max-width: 0;overflow: hidden;text-align: left;background-color: #f0f8ff;}#sk-container-id-13 div.sk-toggleable__content pre {margin: 0.2em;color: black;border-radius: 0.25em;background-color: #f0f8ff;}#sk-container-id-13 input.sk-toggleable__control:checked~div.sk-toggleable__content {max-height: 200px;max-width: 100%;overflow: auto;}#sk-container-id-13 input.sk-toggleable__control:checked~label.sk-toggleable__label-arrow:before {content: \"▾\";}#sk-container-id-13 div.sk-estimator input.sk-toggleable__control:checked~label.sk-toggleable__label {background-color: #d4ebff;}#sk-container-id-13 div.sk-label input.sk-toggleable__control:checked~label.sk-toggleable__label {background-color: #d4ebff;}#sk-container-id-13 input.sk-hidden--visually {border: 0;clip: rect(1px 1px 1px 1px);clip: rect(1px, 1px, 1px, 1px);height: 1px;margin: -1px;overflow: hidden;padding: 0;position: absolute;width: 1px;}#sk-container-id-13 div.sk-estimator {font-family: monospace;background-color: #f0f8ff;border: 1px dotted black;border-radius: 0.25em;box-sizing: border-box;margin-bottom: 0.5em;}#sk-container-id-13 div.sk-estimator:hover {background-color: #d4ebff;}#sk-container-id-13 div.sk-parallel-item::after {content: \"\";width: 100%;border-bottom: 1px solid gray;flex-grow: 1;}#sk-container-id-13 div.sk-label:hover label.sk-toggleable__label {background-color: #d4ebff;}#sk-container-id-13 div.sk-serial::before {content: \"\";position: absolute;border-left: 1px solid gray;box-sizing: border-box;top: 0;bottom: 0;left: 50%;z-index: 0;}#sk-container-id-13 div.sk-serial {display: flex;flex-direction: column;align-items: center;background-color: white;padding-right: 0.2em;padding-left: 0.2em;position: relative;}#sk-container-id-13 div.sk-item {position: relative;z-index: 1;}#sk-container-id-13 div.sk-parallel {display: flex;align-items: stretch;justify-content: center;background-color: white;position: relative;}#sk-container-id-13 div.sk-item::before, #sk-container-id-13 div.sk-parallel-item::before {content: \"\";position: absolute;border-left: 1px solid gray;box-sizing: border-box;top: 0;bottom: 0;left: 50%;z-index: -1;}#sk-container-id-13 div.sk-parallel-item {display: flex;flex-direction: column;z-index: 1;position: relative;background-color: white;}#sk-container-id-13 div.sk-parallel-item:first-child::after {align-self: flex-end;width: 50%;}#sk-container-id-13 div.sk-parallel-item:last-child::after {align-self: flex-start;width: 50%;}#sk-container-id-13 div.sk-parallel-item:only-child::after {width: 0;}#sk-container-id-13 div.sk-dashed-wrapped {border: 1px dashed gray;margin: 0 0.4em 0.5em 0.4em;box-sizing: border-box;padding-bottom: 0.4em;background-color: white;}#sk-container-id-13 div.sk-label label {font-family: monospace;font-weight: bold;display: inline-block;line-height: 1.2em;}#sk-container-id-13 div.sk-label-container {text-align: center;}#sk-container-id-13 div.sk-container {/* jupyter's `normalize.less` sets `[hidden] { display: none; }` but bootstrap.min.css set `[hidden] { display: none !important; }` so we also need the `!important` here to be able to override the default hidden behavior on the sphinx rendered scikit-learn.org. See: https://github.com/scikit-learn/scikit-learn/issues/21755 */display: inline-block !important;position: relative;}#sk-container-id-13 div.sk-text-repr-fallback {display: none;}</style><div id=\"sk-container-id-13\" class=\"sk-top-container\"><div class=\"sk-text-repr-fallback\"><pre>GridSearchCV(cv=4,\n",
       "             estimator=&lt;catboost.core.CatBoostClassifier object at 0x7f12e2204ca0&gt;,\n",
       "             n_jobs=-1,\n",
       "             param_grid={&#x27;depth&#x27;: [4, 5, 6, 2, 3],\n",
       "                         &#x27;iterations&#x27;: [20, 30, 40, 60, 70, 80, 100],\n",
       "                         &#x27;learning_rate&#x27;: [0.01, 0.02, 0.03, 0.1, 0.05]},\n",
       "             scoring=&#x27;roc_auc&#x27;)</pre><b>In a Jupyter environment, please rerun this cell to show the HTML representation or trust the notebook. <br />On GitHub, the HTML representation is unable to render, please try loading this page with nbviewer.org.</b></div><div class=\"sk-container\" hidden><div class=\"sk-item sk-dashed-wrapped\"><div class=\"sk-label-container\"><div class=\"sk-label sk-toggleable\"><input class=\"sk-toggleable__control sk-hidden--visually\" id=\"sk-estimator-id-29\" type=\"checkbox\" ><label for=\"sk-estimator-id-29\" class=\"sk-toggleable__label sk-toggleable__label-arrow\">GridSearchCV</label><div class=\"sk-toggleable__content\"><pre>GridSearchCV(cv=4,\n",
       "             estimator=&lt;catboost.core.CatBoostClassifier object at 0x7f12e2204ca0&gt;,\n",
       "             n_jobs=-1,\n",
       "             param_grid={&#x27;depth&#x27;: [4, 5, 6, 2, 3],\n",
       "                         &#x27;iterations&#x27;: [20, 30, 40, 60, 70, 80, 100],\n",
       "                         &#x27;learning_rate&#x27;: [0.01, 0.02, 0.03, 0.1, 0.05]},\n",
       "             scoring=&#x27;roc_auc&#x27;)</pre></div></div></div><div class=\"sk-parallel\"><div class=\"sk-parallel-item\"><div class=\"sk-item\"><div class=\"sk-label-container\"><div class=\"sk-label sk-toggleable\"><input class=\"sk-toggleable__control sk-hidden--visually\" id=\"sk-estimator-id-30\" type=\"checkbox\" ><label for=\"sk-estimator-id-30\" class=\"sk-toggleable__label sk-toggleable__label-arrow\">estimator: CatBoostClassifier</label><div class=\"sk-toggleable__content\"><pre>&lt;catboost.core.CatBoostClassifier object at 0x7f12e2204ca0&gt;</pre></div></div></div><div class=\"sk-serial\"><div class=\"sk-item\"><div class=\"sk-estimator sk-toggleable\"><input class=\"sk-toggleable__control sk-hidden--visually\" id=\"sk-estimator-id-31\" type=\"checkbox\" ><label for=\"sk-estimator-id-31\" class=\"sk-toggleable__label sk-toggleable__label-arrow\">CatBoostClassifier</label><div class=\"sk-toggleable__content\"><pre>&lt;catboost.core.CatBoostClassifier object at 0x7f12e2204ca0&gt;</pre></div></div></div></div></div></div></div></div></div></div>"
      ],
      "text/plain": [
       "GridSearchCV(cv=4,\n",
       "             estimator=<catboost.core.CatBoostClassifier object at 0x7f12e2204ca0>,\n",
       "             n_jobs=-1,\n",
       "             param_grid={'depth': [4, 5, 6, 2, 3],\n",
       "                         'iterations': [20, 30, 40, 60, 70, 80, 100],\n",
       "                         'learning_rate': [0.01, 0.02, 0.03, 0.1, 0.05]},\n",
       "             scoring='roc_auc')"
      ]
     },
     "execution_count": 405,
     "metadata": {},
     "output_type": "execute_result"
    }
   ],
   "source": [
    "#GridSearchCV on Catboost\n",
    "\n",
    "catb_base_params = {\n",
    "    'depth': [4,5,6, 2, 3],\n",
    "    'learning_rate': [0.01,0.02,0.03, 0.1, 0.05],\n",
    "    'iterations': [20,30,40, 60, 70,80, 100]\n",
    "}\n",
    "\n",
    "cv_catb = GridSearchCV(catb, param_grid=catb_base_params, scoring='roc_auc', cv=4, \n",
    "                  n_jobs=-1, verbose=0)\n",
    "cv_catb.fit(X_train, y_train)"
   ]
  },
  {
   "cell_type": "code",
   "execution_count": 370,
   "id": "8ba738b0",
   "metadata": {},
   "outputs": [
    {
     "data": {
      "text/plain": [
       "<catboost.core.CatBoostClassifier at 0x7f12e2204ca0>"
      ]
     },
     "execution_count": 370,
     "metadata": {},
     "output_type": "execute_result"
    }
   ],
   "source": [
    "# lr.fit(X_train, y_train)\n",
    "# rf.fit(X_train, y_train)\n",
    "# catb.fit(X_train, y_train)\n",
    "\n",
    "# lr_pred = lr.predict(X_test)\n",
    "# rf_pred = rf.predict(X_test)\n",
    "# catb_pred = catb.predict(X_test)"
   ]
  },
  {
   "cell_type": "code",
   "execution_count": 312,
   "id": "11c83243",
   "metadata": {},
   "outputs": [],
   "source": [
    "\n",
    "assert len(pd.read_csv('data/test.csv')) == len(pd.read_csv('data/submission.csv')), \\\n",
    "    'Lengths of files are mismatch!'"
   ]
  },
  {
   "cell_type": "code",
   "execution_count": 372,
   "id": "346f1249",
   "metadata": {},
   "outputs": [],
   "source": [
    "#Записать модель в файл\n",
    "\n",
    "test = pd.DataFrame({'ID': df_test.index.to_list(), 'predict': np.ravel(lr_pred)})\n",
    "test = test.set_index('ID')\n",
    "test.to_csv('pred_lr.csv')"
   ]
  },
  {
   "cell_type": "markdown",
   "id": "c95636db",
   "metadata": {},
   "source": [
    "Your roc_auc score is: 0.668\n",
    "\n"
   ]
  },
  {
   "cell_type": "code",
   "execution_count": 404,
   "id": "8721d2cc",
   "metadata": {},
   "outputs": [],
   "source": [
    "#Записать модель в файл\n",
    "#rf_pred = cv_rf.best_estimator_.predict(X_test)\n",
    "\n",
    "test = pd.DataFrame({'ID': df_test.index.to_list(), 'predict': np.ravel(rf_pred)})\n",
    "test = test.set_index('ID')\n",
    "test.to_csv('pred_rf.csv')"
   ]
  },
  {
   "cell_type": "markdown",
   "id": "4dad9003",
   "metadata": {},
   "source": [
    "Your roc_auc score is: 0.7059\n"
   ]
  },
  {
   "cell_type": "code",
   "execution_count": 408,
   "id": "9e36fba8",
   "metadata": {},
   "outputs": [],
   "source": [
    "#Записать модель в файл\n",
    "catb_pred = cv_catb.best_estimator_.predict(X_test)\n",
    "\n",
    "test = pd.DataFrame({'ID': df_test.index.to_list(), 'predict': np.ravel(catb_pred)})\n",
    "test = test.set_index('ID')\n",
    "test.to_csv('pred_catb.csv')"
   ]
  },
  {
   "cell_type": "markdown",
   "id": "c60c1625",
   "metadata": {},
   "source": [
    "Your roc_auc score is: 0.7156"
   ]
  },
  {
   "cell_type": "markdown",
   "id": "f52dcc9c",
   "metadata": {},
   "source": [
    "### baseline easy"
   ]
  },
  {
   "cell_type": "code",
   "execution_count": 375,
   "id": "6b0d72ea",
   "metadata": {},
   "outputs": [],
   "source": [
    "#Тест и train объединили\n",
    "df_base = pd.concat([df_train.drop(columns = 'y'), df_test])"
   ]
  },
  {
   "cell_type": "code",
   "execution_count": 376,
   "id": "2313c2cd",
   "metadata": {},
   "outputs": [],
   "source": [
    "#Заполняем Nan\n",
    "df_base['balance'] = df_base['balance'].fillna(0)\n",
    "df_base['month'] = df_base['month'].fillna(df_base['month'].mode()[0])\n",
    "df_base['age'] = df_base['age'].fillna(df_base['age'].median())"
   ]
  },
  {
   "cell_type": "code",
   "execution_count": 377,
   "id": "3cc0f730",
   "metadata": {},
   "outputs": [],
   "source": [
    "#\n",
    "df_base = pd.get_dummies(df_base, columns=df_base.select_dtypes('object').columns)"
   ]
  },
  {
   "cell_type": "code",
   "execution_count": 378,
   "id": "6bc4f18c",
   "metadata": {},
   "outputs": [],
   "source": [
    "base_scal = ss_scaler.fit_transform(df_base)\n",
    "X_base = pd.DataFrame(base_scal, columns=df_base.columns)"
   ]
  },
  {
   "cell_type": "code",
   "execution_count": 379,
   "id": "b095202f",
   "metadata": {},
   "outputs": [],
   "source": [
    "X_base_train = X_base[:12870] \n",
    "X_base_test = X_base[12870:]"
   ]
  },
  {
   "cell_type": "code",
   "execution_count": 384,
   "id": "ed62a754",
   "metadata": {},
   "outputs": [],
   "source": [
    "lr_base = LogisticRegression()\n",
    "rf_base = RandomForestClassifier()\n",
    "catb_base = CatBoostClassifier(verbose = 0)"
   ]
  },
  {
   "cell_type": "code",
   "execution_count": 409,
   "id": "415bbf2e",
   "metadata": {},
   "outputs": [
    {
     "data": {
      "text/html": [
       "<style>#sk-container-id-14 {color: black;background-color: white;}#sk-container-id-14 pre{padding: 0;}#sk-container-id-14 div.sk-toggleable {background-color: white;}#sk-container-id-14 label.sk-toggleable__label {cursor: pointer;display: block;width: 100%;margin-bottom: 0;padding: 0.3em;box-sizing: border-box;text-align: center;}#sk-container-id-14 label.sk-toggleable__label-arrow:before {content: \"▸\";float: left;margin-right: 0.25em;color: #696969;}#sk-container-id-14 label.sk-toggleable__label-arrow:hover:before {color: black;}#sk-container-id-14 div.sk-estimator:hover label.sk-toggleable__label-arrow:before {color: black;}#sk-container-id-14 div.sk-toggleable__content {max-height: 0;max-width: 0;overflow: hidden;text-align: left;background-color: #f0f8ff;}#sk-container-id-14 div.sk-toggleable__content pre {margin: 0.2em;color: black;border-radius: 0.25em;background-color: #f0f8ff;}#sk-container-id-14 input.sk-toggleable__control:checked~div.sk-toggleable__content {max-height: 200px;max-width: 100%;overflow: auto;}#sk-container-id-14 input.sk-toggleable__control:checked~label.sk-toggleable__label-arrow:before {content: \"▾\";}#sk-container-id-14 div.sk-estimator input.sk-toggleable__control:checked~label.sk-toggleable__label {background-color: #d4ebff;}#sk-container-id-14 div.sk-label input.sk-toggleable__control:checked~label.sk-toggleable__label {background-color: #d4ebff;}#sk-container-id-14 input.sk-hidden--visually {border: 0;clip: rect(1px 1px 1px 1px);clip: rect(1px, 1px, 1px, 1px);height: 1px;margin: -1px;overflow: hidden;padding: 0;position: absolute;width: 1px;}#sk-container-id-14 div.sk-estimator {font-family: monospace;background-color: #f0f8ff;border: 1px dotted black;border-radius: 0.25em;box-sizing: border-box;margin-bottom: 0.5em;}#sk-container-id-14 div.sk-estimator:hover {background-color: #d4ebff;}#sk-container-id-14 div.sk-parallel-item::after {content: \"\";width: 100%;border-bottom: 1px solid gray;flex-grow: 1;}#sk-container-id-14 div.sk-label:hover label.sk-toggleable__label {background-color: #d4ebff;}#sk-container-id-14 div.sk-serial::before {content: \"\";position: absolute;border-left: 1px solid gray;box-sizing: border-box;top: 0;bottom: 0;left: 50%;z-index: 0;}#sk-container-id-14 div.sk-serial {display: flex;flex-direction: column;align-items: center;background-color: white;padding-right: 0.2em;padding-left: 0.2em;position: relative;}#sk-container-id-14 div.sk-item {position: relative;z-index: 1;}#sk-container-id-14 div.sk-parallel {display: flex;align-items: stretch;justify-content: center;background-color: white;position: relative;}#sk-container-id-14 div.sk-item::before, #sk-container-id-14 div.sk-parallel-item::before {content: \"\";position: absolute;border-left: 1px solid gray;box-sizing: border-box;top: 0;bottom: 0;left: 50%;z-index: -1;}#sk-container-id-14 div.sk-parallel-item {display: flex;flex-direction: column;z-index: 1;position: relative;background-color: white;}#sk-container-id-14 div.sk-parallel-item:first-child::after {align-self: flex-end;width: 50%;}#sk-container-id-14 div.sk-parallel-item:last-child::after {align-self: flex-start;width: 50%;}#sk-container-id-14 div.sk-parallel-item:only-child::after {width: 0;}#sk-container-id-14 div.sk-dashed-wrapped {border: 1px dashed gray;margin: 0 0.4em 0.5em 0.4em;box-sizing: border-box;padding-bottom: 0.4em;background-color: white;}#sk-container-id-14 div.sk-label label {font-family: monospace;font-weight: bold;display: inline-block;line-height: 1.2em;}#sk-container-id-14 div.sk-label-container {text-align: center;}#sk-container-id-14 div.sk-container {/* jupyter's `normalize.less` sets `[hidden] { display: none; }` but bootstrap.min.css set `[hidden] { display: none !important; }` so we also need the `!important` here to be able to override the default hidden behavior on the sphinx rendered scikit-learn.org. See: https://github.com/scikit-learn/scikit-learn/issues/21755 */display: inline-block !important;position: relative;}#sk-container-id-14 div.sk-text-repr-fallback {display: none;}</style><div id=\"sk-container-id-14\" class=\"sk-top-container\"><div class=\"sk-text-repr-fallback\"><pre>GridSearchCV(cv=4, estimator=RandomForestClassifier(), n_jobs=-1,\n",
       "             param_grid={&#x27;max_depth&#x27;: [1, 3, 7, 8], &#x27;min_samples_leaf&#x27;: [2, 3],\n",
       "                         &#x27;min_samples_split&#x27;: [2, 3, 4],\n",
       "                         &#x27;n_estimators&#x27;: [80, 100, 140]},\n",
       "             scoring=&#x27;roc_auc&#x27;)</pre><b>In a Jupyter environment, please rerun this cell to show the HTML representation or trust the notebook. <br />On GitHub, the HTML representation is unable to render, please try loading this page with nbviewer.org.</b></div><div class=\"sk-container\" hidden><div class=\"sk-item sk-dashed-wrapped\"><div class=\"sk-label-container\"><div class=\"sk-label sk-toggleable\"><input class=\"sk-toggleable__control sk-hidden--visually\" id=\"sk-estimator-id-32\" type=\"checkbox\" ><label for=\"sk-estimator-id-32\" class=\"sk-toggleable__label sk-toggleable__label-arrow\">GridSearchCV</label><div class=\"sk-toggleable__content\"><pre>GridSearchCV(cv=4, estimator=RandomForestClassifier(), n_jobs=-1,\n",
       "             param_grid={&#x27;max_depth&#x27;: [1, 3, 7, 8], &#x27;min_samples_leaf&#x27;: [2, 3],\n",
       "                         &#x27;min_samples_split&#x27;: [2, 3, 4],\n",
       "                         &#x27;n_estimators&#x27;: [80, 100, 140]},\n",
       "             scoring=&#x27;roc_auc&#x27;)</pre></div></div></div><div class=\"sk-parallel\"><div class=\"sk-parallel-item\"><div class=\"sk-item\"><div class=\"sk-label-container\"><div class=\"sk-label sk-toggleable\"><input class=\"sk-toggleable__control sk-hidden--visually\" id=\"sk-estimator-id-33\" type=\"checkbox\" ><label for=\"sk-estimator-id-33\" class=\"sk-toggleable__label sk-toggleable__label-arrow\">estimator: RandomForestClassifier</label><div class=\"sk-toggleable__content\"><pre>RandomForestClassifier()</pre></div></div></div><div class=\"sk-serial\"><div class=\"sk-item\"><div class=\"sk-estimator sk-toggleable\"><input class=\"sk-toggleable__control sk-hidden--visually\" id=\"sk-estimator-id-34\" type=\"checkbox\" ><label for=\"sk-estimator-id-34\" class=\"sk-toggleable__label sk-toggleable__label-arrow\">RandomForestClassifier</label><div class=\"sk-toggleable__content\"><pre>RandomForestClassifier()</pre></div></div></div></div></div></div></div></div></div></div>"
      ],
      "text/plain": [
       "GridSearchCV(cv=4, estimator=RandomForestClassifier(), n_jobs=-1,\n",
       "             param_grid={'max_depth': [1, 3, 7, 8], 'min_samples_leaf': [2, 3],\n",
       "                         'min_samples_split': [2, 3, 4],\n",
       "                         'n_estimators': [80, 100, 140]},\n",
       "             scoring='roc_auc')"
      ]
     },
     "execution_count": 409,
     "metadata": {},
     "output_type": "execute_result"
    }
   ],
   "source": [
    "rf_base_params = {\n",
    "    'n_estimators': [80, 100, 140],\n",
    "    'max_depth': [1, 3, 7, 8],\n",
    "    'min_samples_split': [2, 3, 4],\n",
    "    'min_samples_leaf': [2, 3]\n",
    "}\n",
    "\n",
    "cv_rf_base = GridSearchCV(rf_base, param_grid=rf_base_params, scoring='roc_auc', cv=4, n_jobs=-1)\n",
    "cv_rf_base.fit(X_base_train, y_train)"
   ]
  },
  {
   "cell_type": "code",
   "execution_count": 410,
   "id": "b7c6a0d4",
   "metadata": {},
   "outputs": [
    {
     "data": {
      "text/html": [
       "<style>#sk-container-id-15 {color: black;background-color: white;}#sk-container-id-15 pre{padding: 0;}#sk-container-id-15 div.sk-toggleable {background-color: white;}#sk-container-id-15 label.sk-toggleable__label {cursor: pointer;display: block;width: 100%;margin-bottom: 0;padding: 0.3em;box-sizing: border-box;text-align: center;}#sk-container-id-15 label.sk-toggleable__label-arrow:before {content: \"▸\";float: left;margin-right: 0.25em;color: #696969;}#sk-container-id-15 label.sk-toggleable__label-arrow:hover:before {color: black;}#sk-container-id-15 div.sk-estimator:hover label.sk-toggleable__label-arrow:before {color: black;}#sk-container-id-15 div.sk-toggleable__content {max-height: 0;max-width: 0;overflow: hidden;text-align: left;background-color: #f0f8ff;}#sk-container-id-15 div.sk-toggleable__content pre {margin: 0.2em;color: black;border-radius: 0.25em;background-color: #f0f8ff;}#sk-container-id-15 input.sk-toggleable__control:checked~div.sk-toggleable__content {max-height: 200px;max-width: 100%;overflow: auto;}#sk-container-id-15 input.sk-toggleable__control:checked~label.sk-toggleable__label-arrow:before {content: \"▾\";}#sk-container-id-15 div.sk-estimator input.sk-toggleable__control:checked~label.sk-toggleable__label {background-color: #d4ebff;}#sk-container-id-15 div.sk-label input.sk-toggleable__control:checked~label.sk-toggleable__label {background-color: #d4ebff;}#sk-container-id-15 input.sk-hidden--visually {border: 0;clip: rect(1px 1px 1px 1px);clip: rect(1px, 1px, 1px, 1px);height: 1px;margin: -1px;overflow: hidden;padding: 0;position: absolute;width: 1px;}#sk-container-id-15 div.sk-estimator {font-family: monospace;background-color: #f0f8ff;border: 1px dotted black;border-radius: 0.25em;box-sizing: border-box;margin-bottom: 0.5em;}#sk-container-id-15 div.sk-estimator:hover {background-color: #d4ebff;}#sk-container-id-15 div.sk-parallel-item::after {content: \"\";width: 100%;border-bottom: 1px solid gray;flex-grow: 1;}#sk-container-id-15 div.sk-label:hover label.sk-toggleable__label {background-color: #d4ebff;}#sk-container-id-15 div.sk-serial::before {content: \"\";position: absolute;border-left: 1px solid gray;box-sizing: border-box;top: 0;bottom: 0;left: 50%;z-index: 0;}#sk-container-id-15 div.sk-serial {display: flex;flex-direction: column;align-items: center;background-color: white;padding-right: 0.2em;padding-left: 0.2em;position: relative;}#sk-container-id-15 div.sk-item {position: relative;z-index: 1;}#sk-container-id-15 div.sk-parallel {display: flex;align-items: stretch;justify-content: center;background-color: white;position: relative;}#sk-container-id-15 div.sk-item::before, #sk-container-id-15 div.sk-parallel-item::before {content: \"\";position: absolute;border-left: 1px solid gray;box-sizing: border-box;top: 0;bottom: 0;left: 50%;z-index: -1;}#sk-container-id-15 div.sk-parallel-item {display: flex;flex-direction: column;z-index: 1;position: relative;background-color: white;}#sk-container-id-15 div.sk-parallel-item:first-child::after {align-self: flex-end;width: 50%;}#sk-container-id-15 div.sk-parallel-item:last-child::after {align-self: flex-start;width: 50%;}#sk-container-id-15 div.sk-parallel-item:only-child::after {width: 0;}#sk-container-id-15 div.sk-dashed-wrapped {border: 1px dashed gray;margin: 0 0.4em 0.5em 0.4em;box-sizing: border-box;padding-bottom: 0.4em;background-color: white;}#sk-container-id-15 div.sk-label label {font-family: monospace;font-weight: bold;display: inline-block;line-height: 1.2em;}#sk-container-id-15 div.sk-label-container {text-align: center;}#sk-container-id-15 div.sk-container {/* jupyter's `normalize.less` sets `[hidden] { display: none; }` but bootstrap.min.css set `[hidden] { display: none !important; }` so we also need the `!important` here to be able to override the default hidden behavior on the sphinx rendered scikit-learn.org. See: https://github.com/scikit-learn/scikit-learn/issues/21755 */display: inline-block !important;position: relative;}#sk-container-id-15 div.sk-text-repr-fallback {display: none;}</style><div id=\"sk-container-id-15\" class=\"sk-top-container\"><div class=\"sk-text-repr-fallback\"><pre>RandomForestClassifier(max_depth=8, min_samples_leaf=2, min_samples_split=4,\n",
       "                       n_estimators=140)</pre><b>In a Jupyter environment, please rerun this cell to show the HTML representation or trust the notebook. <br />On GitHub, the HTML representation is unable to render, please try loading this page with nbviewer.org.</b></div><div class=\"sk-container\" hidden><div class=\"sk-item\"><div class=\"sk-estimator sk-toggleable\"><input class=\"sk-toggleable__control sk-hidden--visually\" id=\"sk-estimator-id-35\" type=\"checkbox\" checked><label for=\"sk-estimator-id-35\" class=\"sk-toggleable__label sk-toggleable__label-arrow\">RandomForestClassifier</label><div class=\"sk-toggleable__content\"><pre>RandomForestClassifier(max_depth=8, min_samples_leaf=2, min_samples_split=4,\n",
       "                       n_estimators=140)</pre></div></div></div></div></div>"
      ],
      "text/plain": [
       "RandomForestClassifier(max_depth=8, min_samples_leaf=2, min_samples_split=4,\n",
       "                       n_estimators=140)"
      ]
     },
     "execution_count": 410,
     "metadata": {},
     "output_type": "execute_result"
    }
   ],
   "source": [
    "cv_rf_base.best_estimator_"
   ]
  },
  {
   "cell_type": "code",
   "execution_count": null,
   "id": "81696751",
   "metadata": {},
   "outputs": [],
   "source": [
    "#GridSearchCV  on RandomForest\n",
    "\n",
    "# rforest_params = {\n",
    "#     'n_estimators': np.arange(40,200,10),\n",
    "#     'max_depth': np.arange(1,20,2),\n",
    "#     'min_samples_leaf': np.arange(1,20,2)\n",
    "# }\n",
    "# rf = RandomForestRegressor()\n",
    "\n",
    "# cv_rndfrst = GridSearchCV(rf, param_grid=rforest_params, scoring='neg_mean_squared_error', cv=5, \n",
    "#                   n_jobs=-1, verbose=0)\n",
    "# cv_rndfrst.fit(X_train, y['SalePrice'])"
   ]
  },
  {
   "cell_type": "code",
   "execution_count": 393,
   "id": "39a93611",
   "metadata": {},
   "outputs": [
    {
     "data": {
      "text/html": [
       "<style>#sk-container-id-10 {color: black;background-color: white;}#sk-container-id-10 pre{padding: 0;}#sk-container-id-10 div.sk-toggleable {background-color: white;}#sk-container-id-10 label.sk-toggleable__label {cursor: pointer;display: block;width: 100%;margin-bottom: 0;padding: 0.3em;box-sizing: border-box;text-align: center;}#sk-container-id-10 label.sk-toggleable__label-arrow:before {content: \"▸\";float: left;margin-right: 0.25em;color: #696969;}#sk-container-id-10 label.sk-toggleable__label-arrow:hover:before {color: black;}#sk-container-id-10 div.sk-estimator:hover label.sk-toggleable__label-arrow:before {color: black;}#sk-container-id-10 div.sk-toggleable__content {max-height: 0;max-width: 0;overflow: hidden;text-align: left;background-color: #f0f8ff;}#sk-container-id-10 div.sk-toggleable__content pre {margin: 0.2em;color: black;border-radius: 0.25em;background-color: #f0f8ff;}#sk-container-id-10 input.sk-toggleable__control:checked~div.sk-toggleable__content {max-height: 200px;max-width: 100%;overflow: auto;}#sk-container-id-10 input.sk-toggleable__control:checked~label.sk-toggleable__label-arrow:before {content: \"▾\";}#sk-container-id-10 div.sk-estimator input.sk-toggleable__control:checked~label.sk-toggleable__label {background-color: #d4ebff;}#sk-container-id-10 div.sk-label input.sk-toggleable__control:checked~label.sk-toggleable__label {background-color: #d4ebff;}#sk-container-id-10 input.sk-hidden--visually {border: 0;clip: rect(1px 1px 1px 1px);clip: rect(1px, 1px, 1px, 1px);height: 1px;margin: -1px;overflow: hidden;padding: 0;position: absolute;width: 1px;}#sk-container-id-10 div.sk-estimator {font-family: monospace;background-color: #f0f8ff;border: 1px dotted black;border-radius: 0.25em;box-sizing: border-box;margin-bottom: 0.5em;}#sk-container-id-10 div.sk-estimator:hover {background-color: #d4ebff;}#sk-container-id-10 div.sk-parallel-item::after {content: \"\";width: 100%;border-bottom: 1px solid gray;flex-grow: 1;}#sk-container-id-10 div.sk-label:hover label.sk-toggleable__label {background-color: #d4ebff;}#sk-container-id-10 div.sk-serial::before {content: \"\";position: absolute;border-left: 1px solid gray;box-sizing: border-box;top: 0;bottom: 0;left: 50%;z-index: 0;}#sk-container-id-10 div.sk-serial {display: flex;flex-direction: column;align-items: center;background-color: white;padding-right: 0.2em;padding-left: 0.2em;position: relative;}#sk-container-id-10 div.sk-item {position: relative;z-index: 1;}#sk-container-id-10 div.sk-parallel {display: flex;align-items: stretch;justify-content: center;background-color: white;position: relative;}#sk-container-id-10 div.sk-item::before, #sk-container-id-10 div.sk-parallel-item::before {content: \"\";position: absolute;border-left: 1px solid gray;box-sizing: border-box;top: 0;bottom: 0;left: 50%;z-index: -1;}#sk-container-id-10 div.sk-parallel-item {display: flex;flex-direction: column;z-index: 1;position: relative;background-color: white;}#sk-container-id-10 div.sk-parallel-item:first-child::after {align-self: flex-end;width: 50%;}#sk-container-id-10 div.sk-parallel-item:last-child::after {align-self: flex-start;width: 50%;}#sk-container-id-10 div.sk-parallel-item:only-child::after {width: 0;}#sk-container-id-10 div.sk-dashed-wrapped {border: 1px dashed gray;margin: 0 0.4em 0.5em 0.4em;box-sizing: border-box;padding-bottom: 0.4em;background-color: white;}#sk-container-id-10 div.sk-label label {font-family: monospace;font-weight: bold;display: inline-block;line-height: 1.2em;}#sk-container-id-10 div.sk-label-container {text-align: center;}#sk-container-id-10 div.sk-container {/* jupyter's `normalize.less` sets `[hidden] { display: none; }` but bootstrap.min.css set `[hidden] { display: none !important; }` so we also need the `!important` here to be able to override the default hidden behavior on the sphinx rendered scikit-learn.org. See: https://github.com/scikit-learn/scikit-learn/issues/21755 */display: inline-block !important;position: relative;}#sk-container-id-10 div.sk-text-repr-fallback {display: none;}</style><div id=\"sk-container-id-10\" class=\"sk-top-container\"><div class=\"sk-text-repr-fallback\"><pre>GridSearchCV(cv=5,\n",
       "             estimator=&lt;catboost.core.CatBoostClassifier object at 0x7f12a6ab71c0&gt;,\n",
       "             n_jobs=-1,\n",
       "             param_grid={&#x27;depth&#x27;: [4, 6, 7, 8, 10],\n",
       "                         &#x27;iterations&#x27;: [80, 90, 100, 120, 140],\n",
       "                         &#x27;learning_rate&#x27;: [0.03, 0.04, 0.1, 0.5]},\n",
       "             scoring=&#x27;roc_auc&#x27;)</pre><b>In a Jupyter environment, please rerun this cell to show the HTML representation or trust the notebook. <br />On GitHub, the HTML representation is unable to render, please try loading this page with nbviewer.org.</b></div><div class=\"sk-container\" hidden><div class=\"sk-item sk-dashed-wrapped\"><div class=\"sk-label-container\"><div class=\"sk-label sk-toggleable\"><input class=\"sk-toggleable__control sk-hidden--visually\" id=\"sk-estimator-id-20\" type=\"checkbox\" ><label for=\"sk-estimator-id-20\" class=\"sk-toggleable__label sk-toggleable__label-arrow\">GridSearchCV</label><div class=\"sk-toggleable__content\"><pre>GridSearchCV(cv=5,\n",
       "             estimator=&lt;catboost.core.CatBoostClassifier object at 0x7f12a6ab71c0&gt;,\n",
       "             n_jobs=-1,\n",
       "             param_grid={&#x27;depth&#x27;: [4, 6, 7, 8, 10],\n",
       "                         &#x27;iterations&#x27;: [80, 90, 100, 120, 140],\n",
       "                         &#x27;learning_rate&#x27;: [0.03, 0.04, 0.1, 0.5]},\n",
       "             scoring=&#x27;roc_auc&#x27;)</pre></div></div></div><div class=\"sk-parallel\"><div class=\"sk-parallel-item\"><div class=\"sk-item\"><div class=\"sk-label-container\"><div class=\"sk-label sk-toggleable\"><input class=\"sk-toggleable__control sk-hidden--visually\" id=\"sk-estimator-id-21\" type=\"checkbox\" ><label for=\"sk-estimator-id-21\" class=\"sk-toggleable__label sk-toggleable__label-arrow\">estimator: CatBoostClassifier</label><div class=\"sk-toggleable__content\"><pre>&lt;catboost.core.CatBoostClassifier object at 0x7f12a6ab71c0&gt;</pre></div></div></div><div class=\"sk-serial\"><div class=\"sk-item\"><div class=\"sk-estimator sk-toggleable\"><input class=\"sk-toggleable__control sk-hidden--visually\" id=\"sk-estimator-id-22\" type=\"checkbox\" ><label for=\"sk-estimator-id-22\" class=\"sk-toggleable__label sk-toggleable__label-arrow\">CatBoostClassifier</label><div class=\"sk-toggleable__content\"><pre>&lt;catboost.core.CatBoostClassifier object at 0x7f12a6ab71c0&gt;</pre></div></div></div></div></div></div></div></div></div></div>"
      ],
      "text/plain": [
       "GridSearchCV(cv=5,\n",
       "             estimator=<catboost.core.CatBoostClassifier object at 0x7f12a6ab71c0>,\n",
       "             n_jobs=-1,\n",
       "             param_grid={'depth': [4, 6, 7, 8, 10],\n",
       "                         'iterations': [80, 90, 100, 120, 140],\n",
       "                         'learning_rate': [0.03, 0.04, 0.1, 0.5]},\n",
       "             scoring='roc_auc')"
      ]
     },
     "execution_count": 393,
     "metadata": {},
     "output_type": "execute_result"
    }
   ],
   "source": [
    "catb_base_params = {\n",
    "    'depth': [4, 6, 7, 8, 10],\n",
    "    'learning_rate': [0.03, 0.04, 0.1, 0.5],\n",
    "    'iterations': [80, 90, 100, 120, 140]\n",
    "}\n",
    "\n",
    "cv_catb_base = GridSearchCV(catb_base, param_grid=catb_base_params, scoring='roc_auc', cv=5, \n",
    "                  n_jobs=-1, verbose=0)\n",
    "cv_catb_base.fit(X_base_train, y_train)"
   ]
  },
  {
   "cell_type": "code",
   "execution_count": 397,
   "id": "7c61ce2c",
   "metadata": {},
   "outputs": [
    {
     "data": {
      "text/plain": [
       "{'depth': 7, 'iterations': 120, 'learning_rate': 0.1}"
      ]
     },
     "execution_count": 397,
     "metadata": {},
     "output_type": "execute_result"
    }
   ],
   "source": [
    "cv_catb_base.best_params_"
   ]
  },
  {
   "cell_type": "code",
   "execution_count": 385,
   "id": "81dab2b3",
   "metadata": {},
   "outputs": [
    {
     "data": {
      "text/plain": [
       "<catboost.core.CatBoostClassifier at 0x7f12a6ab71c0>"
      ]
     },
     "execution_count": 385,
     "metadata": {},
     "output_type": "execute_result"
    }
   ],
   "source": [
    "lr_base.fit(X_base_train, y_train)\n",
    "rf_base.fit(X_base_train, y_train)\n",
    "catb_base.fit(X_base_train, y_train)"
   ]
  },
  {
   "cell_type": "code",
   "execution_count": 386,
   "id": "45c24135",
   "metadata": {},
   "outputs": [],
   "source": [
    "lr_base_pred = lr_base.predict(X_base_test)\n",
    "rf_base_pred = rf_base.predict(X_base_test)\n",
    "catb_base_pred = catb_base.predict(X_base_test)"
   ]
  },
  {
   "cell_type": "code",
   "execution_count": 387,
   "id": "3d55bc71",
   "metadata": {},
   "outputs": [],
   "source": [
    "#Записать модель в файл\n",
    "\n",
    "test = pd.DataFrame({'ID': df_test.index.to_list(), 'predict': np.ravel(lr_base_pred)})\n",
    "test = test.set_index('ID')\n",
    "test.to_csv('pred_base_lr.csv')"
   ]
  },
  {
   "cell_type": "markdown",
   "id": "56c48e75",
   "metadata": {},
   "source": [
    "Your roc_auc score is: 0.6780"
   ]
  },
  {
   "cell_type": "code",
   "execution_count": 411,
   "id": "22688cfc",
   "metadata": {},
   "outputs": [],
   "source": [
    "#Записать модель в файл\n",
    "\n",
    "rf_base_pred = cv_rf_base.best_estimator_.predict(X_base_test)\n",
    "\n",
    "test = pd.DataFrame({'ID': df_test.index.to_list(), 'predict': np.ravel(rf_base_pred)})\n",
    "test = test.set_index('ID')\n",
    "test.to_csv('pred_base_rf.csv')"
   ]
  },
  {
   "cell_type": "markdown",
   "id": "379c1215",
   "metadata": {},
   "source": [
    "Your roc_auc score is: 0.7147"
   ]
  },
  {
   "cell_type": "code",
   "execution_count": 398,
   "id": "c6066c52",
   "metadata": {},
   "outputs": [],
   "source": [
    "#Записать модель в файл\n",
    "\n",
    "#catb_base_pred = cv_catb_base.best_estimator_.predict(X_base_test)\n",
    "\n",
    "test = pd.DataFrame({'ID': df_test.index.to_list(), 'predict': np.ravel(catb_base_pred)})\n",
    "test = test.set_index('ID')\n",
    "test.to_csv('pred_base_catb.csv')"
   ]
  },
  {
   "cell_type": "markdown",
   "id": "254f3d0c",
   "metadata": {},
   "source": [
    "Your roc_auc score is: 0.7205"
   ]
  },
  {
   "cell_type": "code",
   "execution_count": 412,
   "id": "2278d554",
   "metadata": {},
   "outputs": [
    {
     "name": "stdout",
     "output_type": "stream",
     "text": [
      "[master 9b543d2] Classification task is done\n",
      " 1 file changed, 3132 insertions(+), 53 deletions(-)\n",
      "Перечисление объектов: 5, готово.\n",
      "Подсчет объектов: 100% (5/5), готово.\n",
      "При сжатии изменений используется до 4 потоков\n",
      "Сжатие объектов: 100% (3/3), готово.\n",
      "Запись объектов: 100% (3/3), 135.76 КиБ | 2.89 МиБ/с, готово.\n",
      "Всего 3 (изменений 1), повторно использовано 0 (изменений 0), повторно использовано пакетов 0\n",
      "remote: Resolving deltas: 100% (1/1), completed with 1 local object.\u001b[K\n",
      "To github.com:SSanchay/ml-assessment.git\n",
      "   fd64cb6..9b543d2  master -> master\n"
     ]
    }
   ],
   "source": [
    "!git add ml_assessment.ipynb\n",
    "!git commit -m \"Classification task is done\"\n",
    "!git push"
   ]
  },
  {
   "cell_type": "code",
   "execution_count": 413,
   "id": "eccb9a85",
   "metadata": {},
   "outputs": [
    {
     "name": "stdout",
     "output_type": "stream",
     "text": [
      "На ветке master\r\n",
      "Ваша ветка обновлена в соответствии с «origin/master».\r\n",
      "\r\n",
      "Неотслеживаемые файлы:\r\n",
      "  (используйте «git add <файл>…», чтобы добавить в то, что будет включено в коммит)\r\n",
      "\t\u001b[31mcatboost_info/\u001b[m\r\n",
      "\t\u001b[31mpred_base_catb.csv\u001b[m\r\n",
      "\t\u001b[31mpred_base_lr.csv\u001b[m\r\n",
      "\t\u001b[31mpred_base_rf.csv\u001b[m\r\n",
      "\t\u001b[31mpred_catb.csv\u001b[m\r\n",
      "\t\u001b[31mpred_lr.csv\u001b[m\r\n",
      "\t\u001b[31mpred_rf.csv\u001b[m\r\n",
      "\r\n",
      "ничего не добавлено в коммит, но есть неотслеживаемые файлы (используйте «git add», чтобы отслеживать их)\r\n"
     ]
    }
   ],
   "source": [
    "!git status"
   ]
  }
 ],
 "metadata": {
  "kernelspec": {
   "display_name": "Python 3 (ipykernel)",
   "language": "python",
   "name": "python3"
  },
  "language_info": {
   "codemirror_mode": {
    "name": "ipython",
    "version": 3
   },
   "file_extension": ".py",
   "mimetype": "text/x-python",
   "name": "python",
   "nbconvert_exporter": "python",
   "pygments_lexer": "ipython3",
   "version": "3.9.13"
  },
  "vscode": {
   "interpreter": {
    "hash": "73ec0c878552fcb71893c22b7af2c9be9210ef33785c90eb804f443984ec4506"
   }
  }
 },
 "nbformat": 4,
 "nbformat_minor": 5
}
